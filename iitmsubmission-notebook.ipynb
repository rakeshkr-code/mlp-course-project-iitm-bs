{
 "cells": [
  {
   "cell_type": "code",
   "execution_count": 1,
   "id": "075744c9",
   "metadata": {
    "_cell_guid": "b1076dfc-b9ad-4769-8c92-a6c4dae69d19",
    "_uuid": "8f2839f25d086af736a60e9eeb907d3b93b6e0e5",
    "execution": {
     "iopub.execute_input": "2022-11-29T14:21:32.731391Z",
     "iopub.status.busy": "2022-11-29T14:21:32.730308Z",
     "iopub.status.idle": "2022-11-29T14:21:32.746626Z",
     "shell.execute_reply": "2022-11-29T14:21:32.745427Z"
    },
    "papermill": {
     "duration": 0.042194,
     "end_time": "2022-11-29T14:21:32.749016",
     "exception": false,
     "start_time": "2022-11-29T14:21:32.706822",
     "status": "completed"
    },
    "tags": []
   },
   "outputs": [
    {
     "name": "stdout",
     "output_type": "stream",
     "text": [
      "/kaggle/input/marketing-strategy-personalised-offer/sample.csv\n",
      "/kaggle/input/marketing-strategy-personalised-offer/train_data.csv\n",
      "/kaggle/input/marketing-strategy-personalised-offer/test_data.csv\n"
     ]
    }
   ],
   "source": [
    "# This Python 3 environment comes with many helpful analytics libraries installed\n",
    "# It is defined by the kaggle/python Docker image: https://github.com/kaggle/docker-python\n",
    "# For example, here's several helpful packages to load\n",
    "\n",
    "import numpy as np # linear algebra\n",
    "import pandas as pd # data processing, CSV file I/O (e.g. pd.read_csv)\n",
    "\n",
    "# Input data files are available in the read-only \"../input/\" directory\n",
    "# For example, running this (by clicking run or pressing Shift+Enter) will list all files under the input directory\n",
    "\n",
    "import os\n",
    "for dirname, _, filenames in os.walk('/kaggle/input'):\n",
    "    for filename in filenames:\n",
    "        print(os.path.join(dirname, filename))\n",
    "\n",
    "# You can write up to 20GB to the current directory (/kaggle/working/) that gets preserved as output when you create a version using \"Save & Run All\" \n",
    "# You can also write temporary files to /kaggle/temp/, but they won't be saved outside of the current session"
   ]
  },
  {
   "cell_type": "code",
   "execution_count": 2,
   "id": "8ab5b6e8",
   "metadata": {
    "execution": {
     "iopub.execute_input": "2022-11-29T14:21:32.787203Z",
     "iopub.status.busy": "2022-11-29T14:21:32.786455Z",
     "iopub.status.idle": "2022-11-29T14:21:32.960278Z",
     "shell.execute_reply": "2022-11-29T14:21:32.959309Z"
    },
    "papermill": {
     "duration": 0.195686,
     "end_time": "2022-11-29T14:21:32.962971",
     "exception": false,
     "start_time": "2022-11-29T14:21:32.767285",
     "status": "completed"
    },
    "tags": []
   },
   "outputs": [],
   "source": [
    "data = pd.read_csv('/kaggle/input/marketing-strategy-personalised-offer/train_data.csv')\n",
    "test_data = pd.read_csv('/kaggle/input/marketing-strategy-personalised-offer/test_data.csv')\n"
   ]
  },
  {
   "cell_type": "markdown",
   "id": "b6226b62",
   "metadata": {
    "papermill": {
     "duration": 0.017639,
     "end_time": "2022-11-29T14:21:33.000322",
     "exception": false,
     "start_time": "2022-11-29T14:21:32.982683",
     "status": "completed"
    },
    "tags": []
   },
   "source": [
    "#### **IMPORTS**"
   ]
  },
  {
   "cell_type": "code",
   "execution_count": 3,
   "id": "ed54a33d",
   "metadata": {
    "execution": {
     "iopub.execute_input": "2022-11-29T14:21:33.037678Z",
     "iopub.status.busy": "2022-11-29T14:21:33.037039Z",
     "iopub.status.idle": "2022-11-29T14:21:34.511363Z",
     "shell.execute_reply": "2022-11-29T14:21:34.509878Z"
    },
    "papermill": {
     "duration": 1.496302,
     "end_time": "2022-11-29T14:21:34.514221",
     "exception": false,
     "start_time": "2022-11-29T14:21:33.017919",
     "status": "completed"
    },
    "tags": []
   },
   "outputs": [],
   "source": [
    "## BASIC IMPORTS\n",
    "import numpy as np\n",
    "import pandas as pd\n",
    "import sklearn as sk\n",
    "import matplotlib.pyplot as plt\n",
    "import seaborn as sns\n",
    "%matplotlib inline\n",
    "from sklearn import set_config\n",
    "\n",
    "## PIPELINE\n",
    "from sklearn.compose import ColumnTransformer\n",
    "from sklearn.pipeline import Pipeline\n",
    "\n",
    "## DATA IMPUTATION\n",
    "from sklearn.impute import SimpleImputer\n",
    "from sklearn.impute import KNNImputer\n",
    "\n",
    "## DATA PREPROCESSING\n",
    "#Scalar\n",
    "# from sklearn.preprocessing import StandardScaler\n",
    "# from sklearn.preprocessing import RobustScaler\n",
    "# from sklearn.preprocessing import MinMaxScaler\n",
    "from sklearn.preprocessing import MaxAbsScaler\n",
    "#Transformer\n",
    "# from sklearn.preprocessing import FunctionTransformer\n",
    "# from sklearn.preprocessing import PolynomialFeatures\n",
    "#Feature_Encoding\n",
    "# from sklearn.preprocessing import OneHotEncoder\n",
    "from sklearn.preprocessing import OrdinalEncoder\n",
    "#Label_Encoding\n",
    "from sklearn.preprocessing import LabelEncoder\n",
    "from sklearn.preprocessing import LabelBinarizer\n",
    "# from sklearn.preprocessing import MultiLabelBinarizer\n",
    "\n",
    "## TRAIN TEST SPLIT\n",
    "from sklearn.model_selection import train_test_split\n",
    "# from sklearn.model_selection import ShuffleSplit\n",
    "# from sklearn.model_selection import StratifiedShuffleSplit\n",
    "\n",
    "## MODELS\n",
    "#LinearModel\n",
    "from sklearn.linear_model import LogisticRegression\n",
    "from sklearn.linear_model import Perceptron\n",
    "from sklearn.linear_model import RidgeClassifier\n",
    "from sklearn.linear_model import SGDClassifier\n",
    "#SVM\n",
    "from sklearn.svm import SVC\n",
    "# from sklearn.svm import NuSVC\n",
    "# from sklearn.svm import LinearSVC\n",
    "#Trees\n",
    "from sklearn.tree import DecisionTreeClassifier\n",
    "from sklearn.tree import plot_tree\n",
    "#NaiveBayes\n",
    "from sklearn.naive_bayes import GaussianNB\n",
    "#Ensemble\n",
    "from sklearn.ensemble import AdaBoostClassifier\n",
    "from sklearn.ensemble import BaggingClassifier\n",
    "from sklearn.ensemble import GradientBoostingClassifier\n",
    "from sklearn.ensemble import RandomForestClassifier\n",
    "# from sklearn.ensemble import StackingClassifier\n",
    "from sklearn.ensemble import VotingClassifier\n",
    "from sklearn.ensemble import HistGradientBoostingClassifier\n",
    "\n",
    "## CLASSIFICATION METRICS\n",
    "from sklearn.metrics import classification_report\n",
    "from sklearn.metrics import recall_score\n",
    "from sklearn.metrics import precision_score\n",
    "# from sklearn.metrics import precision_recall_curve\n",
    "from sklearn.metrics import f1_score\n",
    "# from sklearn.metrics import roc_curve\n",
    "\n",
    "## HYPERPARAMETER TUNING\n",
    "from sklearn.model_selection import GridSearchCV\n",
    "# from sklearn.model_selection import RandomizedSearchCV\n",
    "\n",
    "## MODEL VALIDATION & PLOT LEARNING CURVE\n",
    "# from sklearn.model_selection import cross_validate\n",
    "from sklearn.model_selection import cross_val_predict\n",
    "from sklearn.model_selection import cross_val_score\n",
    "# from sklearn.model_selection import learning_curve\n",
    "# from sklearn.model_selection import validation_curve"
   ]
  },
  {
   "cell_type": "markdown",
   "id": "7f8789a1",
   "metadata": {
    "papermill": {
     "duration": 0.017195,
     "end_time": "2022-11-29T14:21:34.549630",
     "exception": false,
     "start_time": "2022-11-29T14:21:34.532435",
     "status": "completed"
    },
    "tags": []
   },
   "source": [
    "# Understand The MetaData / BigPicture"
   ]
  },
  {
   "cell_type": "code",
   "execution_count": 4,
   "id": "171f79d6",
   "metadata": {
    "execution": {
     "iopub.execute_input": "2022-11-29T14:21:34.587739Z",
     "iopub.status.busy": "2022-11-29T14:21:34.586347Z",
     "iopub.status.idle": "2022-11-29T14:21:34.623609Z",
     "shell.execute_reply": "2022-11-29T14:21:34.622421Z"
    },
    "papermill": {
     "duration": 0.058918,
     "end_time": "2022-11-29T14:21:34.625919",
     "exception": false,
     "start_time": "2022-11-29T14:21:34.567001",
     "status": "completed"
    },
    "tags": []
   },
   "outputs": [
    {
     "name": "stdout",
     "output_type": "stream",
     "text": [
      "(12379, 31) (5305, 30)\n"
     ]
    },
    {
     "data": {
      "text/html": [
       "<div>\n",
       "<style scoped>\n",
       "    .dataframe tbody tr th:only-of-type {\n",
       "        vertical-align: middle;\n",
       "    }\n",
       "\n",
       "    .dataframe tbody tr th {\n",
       "        vertical-align: top;\n",
       "    }\n",
       "\n",
       "    .dataframe thead th {\n",
       "        text-align: right;\n",
       "    }\n",
       "</style>\n",
       "<table border=\"1\" class=\"dataframe\">\n",
       "  <thead>\n",
       "    <tr style=\"text-align: right;\">\n",
       "      <th></th>\n",
       "      <th>offer expiration</th>\n",
       "      <th>income_range</th>\n",
       "      <th>no_visited_Cold drinks</th>\n",
       "      <th>travelled_more_than_15mins_for_offer</th>\n",
       "      <th>Restaur_spend_less_than20</th>\n",
       "      <th>Marital Status</th>\n",
       "      <th>restaurant type</th>\n",
       "      <th>age</th>\n",
       "      <th>Prefer western over chinese</th>\n",
       "      <th>travelled_more_than_25mins_for_offer</th>\n",
       "      <th>...</th>\n",
       "      <th>restuarant_opposite_direction_house</th>\n",
       "      <th>has Children</th>\n",
       "      <th>visit restaurant with rating (avg)</th>\n",
       "      <th>temperature</th>\n",
       "      <th>Restaur_spend_greater_than20</th>\n",
       "      <th>Travel Time</th>\n",
       "      <th>Climate</th>\n",
       "      <th>drop location</th>\n",
       "      <th>Prefer home food</th>\n",
       "      <th>Offer Accepted</th>\n",
       "    </tr>\n",
       "  </thead>\n",
       "  <tbody>\n",
       "    <tr>\n",
       "      <th>0</th>\n",
       "      <td>2days</td>\n",
       "      <td>₹100000 or More</td>\n",
       "      <td>4~8</td>\n",
       "      <td>1</td>\n",
       "      <td>less1</td>\n",
       "      <td>Married partner</td>\n",
       "      <td>4 star restaurant</td>\n",
       "      <td>36</td>\n",
       "      <td>0</td>\n",
       "      <td>0</td>\n",
       "      <td>...</td>\n",
       "      <td>0</td>\n",
       "      <td>0</td>\n",
       "      <td>4</td>\n",
       "      <td>67</td>\n",
       "      <td>less1</td>\n",
       "      <td>22</td>\n",
       "      <td>Spring</td>\n",
       "      <td>Location B</td>\n",
       "      <td>0</td>\n",
       "      <td>No</td>\n",
       "    </tr>\n",
       "    <tr>\n",
       "      <th>1</th>\n",
       "      <td>2days</td>\n",
       "      <td>₹87500 - ₹99999</td>\n",
       "      <td>4~8</td>\n",
       "      <td>0</td>\n",
       "      <td>4~8</td>\n",
       "      <td>Married partner</td>\n",
       "      <td>Take-away restaurant</td>\n",
       "      <td>50plus</td>\n",
       "      <td>0</td>\n",
       "      <td>0</td>\n",
       "      <td>...</td>\n",
       "      <td>0</td>\n",
       "      <td>1</td>\n",
       "      <td>3</td>\n",
       "      <td>89</td>\n",
       "      <td>1~3</td>\n",
       "      <td>18</td>\n",
       "      <td>Summer</td>\n",
       "      <td>Location B</td>\n",
       "      <td>0</td>\n",
       "      <td>Yes</td>\n",
       "    </tr>\n",
       "    <tr>\n",
       "      <th>2</th>\n",
       "      <td>2days</td>\n",
       "      <td>₹87500 - ₹99999</td>\n",
       "      <td>less1</td>\n",
       "      <td>1</td>\n",
       "      <td>1~3</td>\n",
       "      <td>Single</td>\n",
       "      <td>Cold drinks</td>\n",
       "      <td>26</td>\n",
       "      <td>1</td>\n",
       "      <td>0</td>\n",
       "      <td>...</td>\n",
       "      <td>1</td>\n",
       "      <td>1</td>\n",
       "      <td>4</td>\n",
       "      <td>67</td>\n",
       "      <td>less1</td>\n",
       "      <td>7</td>\n",
       "      <td>Winter</td>\n",
       "      <td>Location A</td>\n",
       "      <td>1</td>\n",
       "      <td>Yes</td>\n",
       "    </tr>\n",
       "    <tr>\n",
       "      <th>3</th>\n",
       "      <td>10hours</td>\n",
       "      <td>₹37500 - ₹49999</td>\n",
       "      <td>less1</td>\n",
       "      <td>0</td>\n",
       "      <td>1~3</td>\n",
       "      <td>Single</td>\n",
       "      <td>Take-away restaurant</td>\n",
       "      <td>46</td>\n",
       "      <td>1</td>\n",
       "      <td>0</td>\n",
       "      <td>...</td>\n",
       "      <td>0</td>\n",
       "      <td>1</td>\n",
       "      <td>3</td>\n",
       "      <td>89</td>\n",
       "      <td>1~3</td>\n",
       "      <td>7</td>\n",
       "      <td>Summer</td>\n",
       "      <td>Location C</td>\n",
       "      <td>0</td>\n",
       "      <td>No</td>\n",
       "    </tr>\n",
       "    <tr>\n",
       "      <th>4</th>\n",
       "      <td>2days</td>\n",
       "      <td>₹100000 or More</td>\n",
       "      <td>never</td>\n",
       "      <td>1</td>\n",
       "      <td>1~3</td>\n",
       "      <td>Single</td>\n",
       "      <td>4 star restaurant</td>\n",
       "      <td>21</td>\n",
       "      <td>0</td>\n",
       "      <td>1</td>\n",
       "      <td>...</td>\n",
       "      <td>1</td>\n",
       "      <td>0</td>\n",
       "      <td>3</td>\n",
       "      <td>40</td>\n",
       "      <td>less1</td>\n",
       "      <td>7</td>\n",
       "      <td>Summer</td>\n",
       "      <td>Location C</td>\n",
       "      <td>0</td>\n",
       "      <td>No</td>\n",
       "    </tr>\n",
       "  </tbody>\n",
       "</table>\n",
       "<p>5 rows × 31 columns</p>\n",
       "</div>"
      ],
      "text/plain": [
       "  offer expiration     income_range no_visited_Cold drinks  \\\n",
       "0            2days  ₹100000 or More                    4~8   \n",
       "1            2days  ₹87500 - ₹99999                    4~8   \n",
       "2            2days  ₹87500 - ₹99999                  less1   \n",
       "3          10hours  ₹37500 - ₹49999                  less1   \n",
       "4            2days  ₹100000 or More                  never   \n",
       "\n",
       "   travelled_more_than_15mins_for_offer Restaur_spend_less_than20  \\\n",
       "0                                     1                     less1   \n",
       "1                                     0                       4~8   \n",
       "2                                     1                       1~3   \n",
       "3                                     0                       1~3   \n",
       "4                                     1                       1~3   \n",
       "\n",
       "    Marital Status       restaurant type     age  Prefer western over chinese  \\\n",
       "0  Married partner     4 star restaurant      36                            0   \n",
       "1  Married partner  Take-away restaurant  50plus                            0   \n",
       "2           Single           Cold drinks      26                            1   \n",
       "3           Single  Take-away restaurant      46                            1   \n",
       "4           Single     4 star restaurant      21                            0   \n",
       "\n",
       "   travelled_more_than_25mins_for_offer  ...  \\\n",
       "0                                     0  ...   \n",
       "1                                     0  ...   \n",
       "2                                     0  ...   \n",
       "3                                     0  ...   \n",
       "4                                     1  ...   \n",
       "\n",
       "   restuarant_opposite_direction_house has Children  \\\n",
       "0                                    0            0   \n",
       "1                                    0            1   \n",
       "2                                    1            1   \n",
       "3                                    0            1   \n",
       "4                                    1            0   \n",
       "\n",
       "  visit restaurant with rating (avg) temperature  \\\n",
       "0                                  4          67   \n",
       "1                                  3          89   \n",
       "2                                  4          67   \n",
       "3                                  3          89   \n",
       "4                                  3          40   \n",
       "\n",
       "   Restaur_spend_greater_than20  Travel Time Climate drop location  \\\n",
       "0                         less1           22  Spring    Location B   \n",
       "1                           1~3           18  Summer    Location B   \n",
       "2                         less1            7  Winter    Location A   \n",
       "3                           1~3            7  Summer    Location C   \n",
       "4                         less1            7  Summer    Location C   \n",
       "\n",
       "   Prefer home food Offer Accepted  \n",
       "0                 0             No  \n",
       "1                 0            Yes  \n",
       "2                 1            Yes  \n",
       "3                 0             No  \n",
       "4                 0             No  \n",
       "\n",
       "[5 rows x 31 columns]"
      ]
     },
     "execution_count": 4,
     "metadata": {},
     "output_type": "execute_result"
    }
   ],
   "source": [
    "print(data.shape, test_data.shape)\n",
    "data.head()"
   ]
  },
  {
   "cell_type": "code",
   "execution_count": 5,
   "id": "9766bc7f",
   "metadata": {
    "execution": {
     "iopub.execute_input": "2022-11-29T14:21:34.665302Z",
     "iopub.status.busy": "2022-11-29T14:21:34.664828Z",
     "iopub.status.idle": "2022-11-29T14:21:34.702355Z",
     "shell.execute_reply": "2022-11-29T14:21:34.700449Z"
    },
    "papermill": {
     "duration": 0.061126,
     "end_time": "2022-11-29T14:21:34.705952",
     "exception": false,
     "start_time": "2022-11-29T14:21:34.644826",
     "status": "completed"
    },
    "tags": []
   },
   "outputs": [
    {
     "name": "stdout",
     "output_type": "stream",
     "text": [
      "<class 'pandas.core.frame.DataFrame'>\n",
      "RangeIndex: 12379 entries, 0 to 12378\n",
      "Data columns (total 31 columns):\n",
      " #   Column                                Non-Null Count  Dtype \n",
      "---  ------                                --------------  ----- \n",
      " 0   offer expiration                      12379 non-null  object\n",
      " 1   income_range                          12379 non-null  object\n",
      " 2   no_visited_Cold drinks                12181 non-null  object\n",
      " 3   travelled_more_than_15mins_for_offer  12379 non-null  int64 \n",
      " 4   Restaur_spend_less_than20             12258 non-null  object\n",
      " 5   Marital Status                        12379 non-null  object\n",
      " 6   restaurant type                       12379 non-null  object\n",
      " 7   age                                   12379 non-null  object\n",
      " 8   Prefer western over chinese           12379 non-null  int64 \n",
      " 9   travelled_more_than_25mins_for_offer  12379 non-null  int64 \n",
      " 10  travelled_more_than_5mins_for_offer   12379 non-null  int64 \n",
      " 11  no_visited_bars                       12286 non-null  object\n",
      " 12  gender                                12379 non-null  object\n",
      " 13  car                                   111 non-null    object\n",
      " 14  restuarant_same_direction_house       12379 non-null  int64 \n",
      " 15  Cooks regularly                       12379 non-null  int64 \n",
      " 16  Customer type                         12379 non-null  object\n",
      " 17  Qualification                         12379 non-null  object\n",
      " 18  is foodie                             12379 non-null  int64 \n",
      " 19  no_Take-aways                         12235 non-null  object\n",
      " 20  Job/Job Industry                      12379 non-null  object\n",
      " 21  restuarant_opposite_direction_house   12379 non-null  int64 \n",
      " 22  has Children                          12379 non-null  int64 \n",
      " 23  visit restaurant with rating (avg)    12379 non-null  int64 \n",
      " 24  temperature                           12379 non-null  int64 \n",
      " 25  Restaur_spend_greater_than20          12219 non-null  object\n",
      " 26  Travel Time                           12379 non-null  int64 \n",
      " 27  Climate                               12379 non-null  object\n",
      " 28  drop location                         12379 non-null  object\n",
      " 29  Prefer home food                      12379 non-null  int64 \n",
      " 30  Offer Accepted                        12379 non-null  object\n",
      "dtypes: int64(13), object(18)\n",
      "memory usage: 2.9+ MB\n"
     ]
    }
   ],
   "source": [
    "data.info()"
   ]
  },
  {
   "cell_type": "code",
   "execution_count": 6,
   "id": "d7096468",
   "metadata": {
    "execution": {
     "iopub.execute_input": "2022-11-29T14:21:34.745347Z",
     "iopub.status.busy": "2022-11-29T14:21:34.744188Z",
     "iopub.status.idle": "2022-11-29T14:21:34.754180Z",
     "shell.execute_reply": "2022-11-29T14:21:34.753221Z"
    },
    "papermill": {
     "duration": 0.031625,
     "end_time": "2022-11-29T14:21:34.756147",
     "exception": false,
     "start_time": "2022-11-29T14:21:34.724522",
     "status": "completed"
    },
    "tags": []
   },
   "outputs": [
    {
     "data": {
      "text/plain": [
       "Index(['offer expiration', 'income_range', 'no_visited_Cold drinks',\n",
       "       'travelled_more_than_15mins_for_offer', 'Restaur_spend_less_than20',\n",
       "       'Marital Status', 'restaurant type', 'age',\n",
       "       'Prefer western over chinese', 'travelled_more_than_25mins_for_offer',\n",
       "       'travelled_more_than_5mins_for_offer', 'no_visited_bars', 'gender',\n",
       "       'car', 'restuarant_same_direction_house', 'Cooks regularly',\n",
       "       'Customer type', 'Qualification', 'is foodie', 'no_Take-aways',\n",
       "       'Job/Job Industry', 'restuarant_opposite_direction_house',\n",
       "       'has Children', 'visit restaurant with rating (avg)', 'temperature',\n",
       "       'Restaur_spend_greater_than20', 'Travel Time', 'Climate',\n",
       "       'drop location', 'Prefer home food', 'Offer Accepted'],\n",
       "      dtype='object')"
      ]
     },
     "execution_count": 6,
     "metadata": {},
     "output_type": "execute_result"
    }
   ],
   "source": [
    "columns = data.dtypes.reset_index()\n",
    "all_columns = data.columns\n",
    "all_columns"
   ]
  },
  {
   "cell_type": "code",
   "execution_count": 7,
   "id": "66867a30",
   "metadata": {
    "execution": {
     "iopub.execute_input": "2022-11-29T14:21:34.795588Z",
     "iopub.status.busy": "2022-11-29T14:21:34.795102Z",
     "iopub.status.idle": "2022-11-29T14:21:34.808334Z",
     "shell.execute_reply": "2022-11-29T14:21:34.807109Z"
    },
    "papermill": {
     "duration": 0.035657,
     "end_time": "2022-11-29T14:21:34.810719",
     "exception": false,
     "start_time": "2022-11-29T14:21:34.775062",
     "status": "completed"
    },
    "tags": []
   },
   "outputs": [
    {
     "data": {
      "text/plain": [
       "(array(['travelled_more_than_15mins_for_offer',\n",
       "        'Prefer western over chinese',\n",
       "        'travelled_more_than_25mins_for_offer',\n",
       "        'travelled_more_than_5mins_for_offer',\n",
       "        'restuarant_same_direction_house', 'Cooks regularly', 'is foodie',\n",
       "        'restuarant_opposite_direction_house', 'has Children',\n",
       "        'visit restaurant with rating (avg)', 'temperature', 'Travel Time',\n",
       "        'Prefer home food'], dtype=object),\n",
       " array(['offer expiration', 'income_range', 'no_visited_Cold drinks',\n",
       "        'Restaur_spend_less_than20', 'Marital Status', 'restaurant type',\n",
       "        'age', 'no_visited_bars', 'gender', 'car', 'Customer type',\n",
       "        'Qualification', 'no_Take-aways', 'Job/Job Industry',\n",
       "        'Restaur_spend_greater_than20', 'Climate', 'drop location',\n",
       "        'Offer Accepted'], dtype=object))"
      ]
     },
     "execution_count": 7,
     "metadata": {},
     "output_type": "execute_result"
    }
   ],
   "source": [
    "num_cols = columns[columns[0] == 'int64']['index'].values\n",
    "cat_cols = columns[columns[0] == 'object']['index'].values\n",
    "num_cols, cat_cols"
   ]
  },
  {
   "cell_type": "code",
   "execution_count": 8,
   "id": "7c22d675",
   "metadata": {
    "execution": {
     "iopub.execute_input": "2022-11-29T14:21:34.851002Z",
     "iopub.status.busy": "2022-11-29T14:21:34.850480Z",
     "iopub.status.idle": "2022-11-29T14:21:34.859726Z",
     "shell.execute_reply": "2022-11-29T14:21:34.858396Z"
    },
    "papermill": {
     "duration": 0.032153,
     "end_time": "2022-11-29T14:21:34.862069",
     "exception": false,
     "start_time": "2022-11-29T14:21:34.829916",
     "status": "completed"
    },
    "tags": []
   },
   "outputs": [
    {
     "data": {
      "text/plain": [
       "array(['No', 'Yes'], dtype=object)"
      ]
     },
     "execution_count": 8,
     "metadata": {},
     "output_type": "execute_result"
    }
   ],
   "source": [
    "data['Offer Accepted'].unique()"
   ]
  },
  {
   "cell_type": "code",
   "execution_count": 9,
   "id": "5444a973",
   "metadata": {
    "execution": {
     "iopub.execute_input": "2022-11-29T14:21:34.903085Z",
     "iopub.status.busy": "2022-11-29T14:21:34.902685Z",
     "iopub.status.idle": "2022-11-29T14:21:34.912132Z",
     "shell.execute_reply": "2022-11-29T14:21:34.910941Z"
    },
    "papermill": {
     "duration": 0.033372,
     "end_time": "2022-11-29T14:21:34.914683",
     "exception": false,
     "start_time": "2022-11-29T14:21:34.881311",
     "status": "completed"
    },
    "tags": []
   },
   "outputs": [
    {
     "data": {
      "text/plain": [
       "Yes    6994\n",
       "No     5385\n",
       "Name: Offer Accepted, dtype: int64"
      ]
     },
     "execution_count": 9,
     "metadata": {},
     "output_type": "execute_result"
    }
   ],
   "source": [
    "data['Offer Accepted'].value_counts()"
   ]
  },
  {
   "cell_type": "markdown",
   "id": "6a0e55d1",
   "metadata": {
    "papermill": {
     "duration": 0.019032,
     "end_time": "2022-11-29T14:21:34.953115",
     "exception": false,
     "start_time": "2022-11-29T14:21:34.934083",
     "status": "completed"
    },
    "tags": []
   },
   "source": [
    "**as count of 'yes' and 'No' is 6994 and 5385 resp, which is not very distant So, can do train_test_split (stratified may not be required)**"
   ]
  },
  {
   "cell_type": "code",
   "execution_count": 10,
   "id": "e2969687",
   "metadata": {
    "execution": {
     "iopub.execute_input": "2022-11-29T14:21:34.993250Z",
     "iopub.status.busy": "2022-11-29T14:21:34.992778Z",
     "iopub.status.idle": "2022-11-29T14:21:35.016707Z",
     "shell.execute_reply": "2022-11-29T14:21:35.014646Z"
    },
    "papermill": {
     "duration": 0.048132,
     "end_time": "2022-11-29T14:21:35.020082",
     "exception": false,
     "start_time": "2022-11-29T14:21:34.971950",
     "status": "completed"
    },
    "tags": []
   },
   "outputs": [
    {
     "name": "stdout",
     "output_type": "stream",
     "text": [
      "offer expiration has - ['2days', '10hours']\n",
      "\n",
      "income_range has - ['₹100000 or More', '₹87500 - ₹99999', '₹37500 - ₹49999', 'Less than ₹12500', '₹50000 - ₹62499', '₹12500 - ₹24999', '₹75000 - ₹87499', '₹25000 - ₹37499', '₹62500 - ₹74999']\n",
      "\n",
      "no_visited_Cold drinks has - ['4~8', 'less1', 'never', '1~3', 'gt8', nan]\n",
      "\n",
      "Restaur_spend_less_than20 has - ['less1', '4~8', '1~3', 'gt8', 'never', nan]\n",
      "\n",
      "Marital Status has - ['Married partner', 'Single', 'Divorced', 'Unmarried partner', 'Widowed']\n",
      "\n",
      "restaurant type has - ['4 star restaurant', 'Take-away restaurant', 'Cold drinks', 'Restaurant with pub', '2 star restaurant']\n",
      "\n",
      "age has - ['36', '50plus', '26', '46', '21', 'below21', '41', '31']\n",
      "\n",
      "no_visited_bars has - ['less1', 'never', '1~3', nan, '4~8', 'gt8']\n",
      "\n",
      "gender has - ['Female', 'Male']\n",
      "\n",
      "car has - [nan, 'Mazda5', 'Car that is too old to install Onstar :D', 'crossover', 'Scooter and motorcycle', 'do not drive']\n",
      "\n",
      "Customer type has - ['Individual', 'With Family', 'With Kids', 'With Colleagues']\n",
      "\n",
      "Qualification has - ['Bachelors degree', 'Some college - no degree', 'Graduate degree (Masters or Doctorate)', 'Associates degree', 'High School Graduate', 'Some High School']\n",
      "\n",
      "no_Take-aways has - ['1~3', 'gt8', '4~8', 'less1', nan, 'never']\n",
      "\n",
      "Job/Job Industry has - ['Unemployed', 'Arts Design Entertainment Sports & Media', 'Sales & Related', 'Student', 'Business & Financial', 'Computer & Mathematical', 'Office & Administrative Support', 'Management', 'Healthcare Support', 'Life Physical Social Science', 'Installation Maintenance & Repair', 'Legal', 'Community & Social Services', 'Education&Training&Library', 'Construction & Extraction', 'Healthcare Practitioners & Technical', 'Transportation & Material Moving', 'Retired', 'Architecture & Engineering', 'Production Occupations', 'Farming Fishing & Forestry', 'Protective Service', 'Personal Care & Service', 'Food Preparation & Serving Related', 'Building & Grounds Cleaning & Maintenance']\n",
      "\n",
      "Restaur_spend_greater_than20 has - ['less1', '1~3', 'never', 'gt8', nan, '4~8']\n",
      "\n",
      "Climate has - ['Spring', 'Summer', 'Winter']\n",
      "\n",
      "drop location has - ['Location B', 'Location A', 'Location C']\n",
      "\n",
      "Offer Accepted has - ['No', 'Yes']\n",
      "\n"
     ]
    }
   ],
   "source": [
    "for cat_col in cat_cols:\n",
    "    print(f\"{cat_col} has - {data[cat_col].unique().tolist()}\")\n",
    "    print()"
   ]
  },
  {
   "cell_type": "code",
   "execution_count": 11,
   "id": "107c1166",
   "metadata": {
    "execution": {
     "iopub.execute_input": "2022-11-29T14:21:35.062069Z",
     "iopub.status.busy": "2022-11-29T14:21:35.061300Z",
     "iopub.status.idle": "2022-11-29T14:21:35.072156Z",
     "shell.execute_reply": "2022-11-29T14:21:35.070868Z"
    },
    "papermill": {
     "duration": 0.03569,
     "end_time": "2022-11-29T14:21:35.075886",
     "exception": false,
     "start_time": "2022-11-29T14:21:35.040196",
     "status": "completed"
    },
    "tags": []
   },
   "outputs": [
    {
     "name": "stdout",
     "output_type": "stream",
     "text": [
      "travelled_more_than_15mins_for_offer has - [1, 0]\n",
      "\n",
      "Prefer western over chinese has - [0, 1]\n",
      "\n",
      "travelled_more_than_25mins_for_offer has - [0, 1]\n",
      "\n",
      "travelled_more_than_5mins_for_offer has - [1]\n",
      "\n",
      "restuarant_same_direction_house has - [0, 1]\n",
      "\n",
      "Cooks regularly has - [1, 0]\n",
      "\n",
      "is foodie has - [0, 1]\n",
      "\n",
      "restuarant_opposite_direction_house has - [0, 1]\n",
      "\n",
      "has Children has - [0, 1]\n",
      "\n",
      "visit restaurant with rating (avg) has - [4, 3, 0, 1, 2]\n",
      "\n",
      "temperature has - [67, 89, 40]\n",
      "\n",
      "Travel Time has - [22, 18, 7, 10, 14]\n",
      "\n",
      "Prefer home food has - [0, 1]\n",
      "\n"
     ]
    }
   ],
   "source": [
    "for num_col in num_cols:\n",
    "    print(f\"{num_col} has - {data[num_col].unique().tolist()}\")\n",
    "    print()"
   ]
  },
  {
   "cell_type": "code",
   "execution_count": 12,
   "id": "1a2e2080",
   "metadata": {
    "execution": {
     "iopub.execute_input": "2022-11-29T14:21:35.117796Z",
     "iopub.status.busy": "2022-11-29T14:21:35.117290Z",
     "iopub.status.idle": "2022-11-29T14:21:35.358011Z",
     "shell.execute_reply": "2022-11-29T14:21:35.356829Z"
    },
    "papermill": {
     "duration": 0.264395,
     "end_time": "2022-11-29T14:21:35.360626",
     "exception": false,
     "start_time": "2022-11-29T14:21:35.096231",
     "status": "completed"
    },
    "tags": []
   },
   "outputs": [
    {
     "data": {
      "image/png": "[encoded data removed]",
      "text/plain": [
       "<Figure size 432x288 with 1 Axes>"
      ]
     },
     "metadata": {
      "needs_background": "light"
     },
     "output_type": "display_data"
    }
   ],
   "source": [
    "import matplotlib.pyplot as plt\n",
    "# matplotlib.pyplot.hist(train_data['temperature'])\n",
    "# matplotlib.pyplot.show()\n",
    "plt.hist(data['temperature'])\n",
    "plt.show()"
   ]
  },
  {
   "cell_type": "code",
   "execution_count": 13,
   "id": "ca4800d2",
   "metadata": {
    "execution": {
     "iopub.execute_input": "2022-11-29T14:21:35.402832Z",
     "iopub.status.busy": "2022-11-29T14:21:35.402361Z",
     "iopub.status.idle": "2022-11-29T14:21:35.612982Z",
     "shell.execute_reply": "2022-11-29T14:21:35.611844Z"
    },
    "papermill": {
     "duration": 0.234574,
     "end_time": "2022-11-29T14:21:35.615330",
     "exception": false,
     "start_time": "2022-11-29T14:21:35.380756",
     "status": "completed"
    },
    "tags": []
   },
   "outputs": [
    {
     "data": {
      "image/png": "[encoded data removed]",
      "text/plain": [
       "<Figure size 432x288 with 1 Axes>"
      ]
     },
     "metadata": {
      "needs_background": "light"
     },
     "output_type": "display_data"
    }
   ],
   "source": [
    "plt.hist(data['Travel Time'])\n",
    "plt.show()"
   ]
  },
  {
   "cell_type": "markdown",
   "id": "bdd87d13",
   "metadata": {
    "papermill": {
     "duration": 0.018935,
     "end_time": "2022-11-29T14:21:35.653916",
     "exception": false,
     "start_time": "2022-11-29T14:21:35.634981",
     "status": "completed"
    },
    "tags": []
   },
   "source": [
    "# Working With Columns"
   ]
  },
  {
   "cell_type": "code",
   "execution_count": 14,
   "id": "4b494b4e",
   "metadata": {
    "execution": {
     "iopub.execute_input": "2022-11-29T14:21:35.694520Z",
     "iopub.status.busy": "2022-11-29T14:21:35.693904Z",
     "iopub.status.idle": "2022-11-29T14:21:35.698289Z",
     "shell.execute_reply": "2022-11-29T14:21:35.697580Z"
    },
    "papermill": {
     "duration": 0.027282,
     "end_time": "2022-11-29T14:21:35.700384",
     "exception": false,
     "start_time": "2022-11-29T14:21:35.673102",
     "status": "completed"
    },
    "tags": []
   },
   "outputs": [],
   "source": [
    "# train_data = train_data.replace({'Offer Accepted': {'Yes': 1, 'No': 0}})\n",
    "# train_data = train_data.astype({'Offer Accepted': 'int64'})\n",
    "# train_data.info()"
   ]
  },
  {
   "cell_type": "code",
   "execution_count": 15,
   "id": "09f8d5d3",
   "metadata": {
    "execution": {
     "iopub.execute_input": "2022-11-29T14:21:35.741285Z",
     "iopub.status.busy": "2022-11-29T14:21:35.740668Z",
     "iopub.status.idle": "2022-11-29T14:21:35.747962Z",
     "shell.execute_reply": "2022-11-29T14:21:35.747037Z"
    },
    "papermill": {
     "duration": 0.030452,
     "end_time": "2022-11-29T14:21:35.750037",
     "exception": false,
     "start_time": "2022-11-29T14:21:35.719585",
     "status": "completed"
    },
    "tags": []
   },
   "outputs": [
    {
     "data": {
      "text/plain": [
       "array(['offer expiration', 'income_range', 'no_visited_Cold drinks',\n",
       "       'travelled_more_than_15mins_for_offer',\n",
       "       'Restaur_spend_less_than20', 'Marital Status', 'restaurant type',\n",
       "       'age', 'Prefer western over chinese',\n",
       "       'travelled_more_than_25mins_for_offer',\n",
       "       'travelled_more_than_5mins_for_offer', 'no_visited_bars', 'gender',\n",
       "       'car', 'restuarant_same_direction_house', 'Cooks regularly',\n",
       "       'Customer type', 'Qualification', 'is foodie', 'no_Take-aways',\n",
       "       'Job/Job Industry', 'restuarant_opposite_direction_house',\n",
       "       'has Children', 'visit restaurant with rating (avg)',\n",
       "       'temperature', 'Restaur_spend_greater_than20', 'Travel Time',\n",
       "       'Climate', 'drop location', 'Prefer home food', 'Offer Accepted'],\n",
       "      dtype=object)"
      ]
     },
     "execution_count": 15,
     "metadata": {},
     "output_type": "execute_result"
    }
   ],
   "source": [
    "columns['index'].values"
   ]
  },
  {
   "cell_type": "code",
   "execution_count": 16,
   "id": "d2ee6bb3",
   "metadata": {
    "execution": {
     "iopub.execute_input": "2022-11-29T14:21:35.790676Z",
     "iopub.status.busy": "2022-11-29T14:21:35.790240Z",
     "iopub.status.idle": "2022-11-29T14:21:35.796335Z",
     "shell.execute_reply": "2022-11-29T14:21:35.795064Z"
    },
    "papermill": {
     "duration": 0.029271,
     "end_time": "2022-11-29T14:21:35.798574",
     "exception": false,
     "start_time": "2022-11-29T14:21:35.769303",
     "status": "completed"
    },
    "tags": []
   },
   "outputs": [],
   "source": [
    "num_cols = ['temperature', 'Travel Time']\n",
    "cat_cols = ['offer expiration', 'income_range', 'no_visited_Cold drinks',\n",
    "        'Restaur_spend_less_than20', 'Marital Status', 'restaurant type',\n",
    "        'age', 'no_visited_bars', 'gender', 'Customer type',\n",
    "        'Qualification', 'no_Take-aways', 'Job/Job Industry',\n",
    "        'Restaur_spend_greater_than20', 'Climate', 'drop location']"
   ]
  },
  {
   "cell_type": "markdown",
   "id": "d2e729fe",
   "metadata": {
    "papermill": {
     "duration": 0.019878,
     "end_time": "2022-11-29T14:21:35.838238",
     "exception": false,
     "start_time": "2022-11-29T14:21:35.818360",
     "status": "completed"
    },
    "tags": []
   },
   "source": [
    "> **Handle `car` Column**"
   ]
  },
  {
   "cell_type": "code",
   "execution_count": 17,
   "id": "fc606613",
   "metadata": {
    "execution": {
     "iopub.execute_input": "2022-11-29T14:21:35.879886Z",
     "iopub.status.busy": "2022-11-29T14:21:35.878883Z",
     "iopub.status.idle": "2022-11-29T14:21:35.912871Z",
     "shell.execute_reply": "2022-11-29T14:21:35.910685Z"
    },
    "papermill": {
     "duration": 0.059307,
     "end_time": "2022-11-29T14:21:35.917090",
     "exception": false,
     "start_time": "2022-11-29T14:21:35.857783",
     "status": "completed"
    },
    "tags": []
   },
   "outputs": [
    {
     "name": "stdout",
     "output_type": "stream",
     "text": [
      "(12379, 30) (5305, 29)\n",
      "<class 'pandas.core.frame.DataFrame'>\n",
      "RangeIndex: 12379 entries, 0 to 12378\n",
      "Data columns (total 30 columns):\n",
      " #   Column                                Non-Null Count  Dtype \n",
      "---  ------                                --------------  ----- \n",
      " 0   offer expiration                      12379 non-null  object\n",
      " 1   income_range                          12379 non-null  object\n",
      " 2   no_visited_Cold drinks                12181 non-null  object\n",
      " 3   travelled_more_than_15mins_for_offer  12379 non-null  int64 \n",
      " 4   Restaur_spend_less_than20             12258 non-null  object\n",
      " 5   Marital Status                        12379 non-null  object\n",
      " 6   restaurant type                       12379 non-null  object\n",
      " 7   age                                   12379 non-null  object\n",
      " 8   Prefer western over chinese           12379 non-null  int64 \n",
      " 9   travelled_more_than_25mins_for_offer  12379 non-null  int64 \n",
      " 10  travelled_more_than_5mins_for_offer   12379 non-null  int64 \n",
      " 11  no_visited_bars                       12286 non-null  object\n",
      " 12  gender                                12379 non-null  object\n",
      " 13  restuarant_same_direction_house       12379 non-null  int64 \n",
      " 14  Cooks regularly                       12379 non-null  int64 \n",
      " 15  Customer type                         12379 non-null  object\n",
      " 16  Qualification                         12379 non-null  object\n",
      " 17  is foodie                             12379 non-null  int64 \n",
      " 18  no_Take-aways                         12235 non-null  object\n",
      " 19  Job/Job Industry                      12379 non-null  object\n",
      " 20  restuarant_opposite_direction_house   12379 non-null  int64 \n",
      " 21  has Children                          12379 non-null  int64 \n",
      " 22  visit restaurant with rating (avg)    12379 non-null  int64 \n",
      " 23  temperature                           12379 non-null  int64 \n",
      " 24  Restaur_spend_greater_than20          12219 non-null  object\n",
      " 25  Travel Time                           12379 non-null  int64 \n",
      " 26  Climate                               12379 non-null  object\n",
      " 27  drop location                         12379 non-null  object\n",
      " 28  Prefer home food                      12379 non-null  int64 \n",
      " 29  Offer Accepted                        12379 non-null  object\n",
      "dtypes: int64(13), object(17)\n",
      "memory usage: 2.8+ MB\n"
     ]
    }
   ],
   "source": [
    "## Drop `car` column for now...\n",
    "data = data.drop('car', axis=1)\n",
    "test_data = test_data.drop('car', axis=1)\n",
    "\n",
    "print(data.shape,test_data.shape)\n",
    "\n",
    "data.info()\n",
    "\n",
    "## May be later..\n",
    "# data = data.replace({'car': {'Yes': 1, 'No': 0}})\n",
    "# data = data.astype({'Offer Accepted': 'int64'})\n",
    "# data['car'] = data['car'].fillna('no car')\n",
    "# data.info()"
   ]
  },
  {
   "cell_type": "markdown",
   "id": "d0dc0140",
   "metadata": {
    "papermill": {
     "duration": 0.020103,
     "end_time": "2022-11-29T14:21:35.958506",
     "exception": false,
     "start_time": "2022-11-29T14:21:35.938403",
     "status": "completed"
    },
    "tags": []
   },
   "source": [
    "> **`Handling Missing Values`**"
   ]
  },
  {
   "cell_type": "code",
   "execution_count": 18,
   "id": "8d76a930",
   "metadata": {
    "execution": {
     "iopub.execute_input": "2022-11-29T14:21:36.005105Z",
     "iopub.status.busy": "2022-11-29T14:21:36.002657Z",
     "iopub.status.idle": "2022-11-29T14:21:36.023744Z",
     "shell.execute_reply": "2022-11-29T14:21:36.022573Z"
    },
    "papermill": {
     "duration": 0.046247,
     "end_time": "2022-11-29T14:21:36.026195",
     "exception": false,
     "start_time": "2022-11-29T14:21:35.979948",
     "status": "completed"
    },
    "tags": []
   },
   "outputs": [
    {
     "data": {
      "text/plain": [
       "offer expiration                          0\n",
       "income_range                              0\n",
       "no_visited_Cold drinks                  198\n",
       "travelled_more_than_15mins_for_offer      0\n",
       "Restaur_spend_less_than20               121\n",
       "Marital Status                            0\n",
       "restaurant type                           0\n",
       "age                                       0\n",
       "Prefer western over chinese               0\n",
       "travelled_more_than_25mins_for_offer      0\n",
       "travelled_more_than_5mins_for_offer       0\n",
       "no_visited_bars                          93\n",
       "gender                                    0\n",
       "restuarant_same_direction_house           0\n",
       "Cooks regularly                           0\n",
       "Customer type                             0\n",
       "Qualification                             0\n",
       "is foodie                                 0\n",
       "no_Take-aways                           144\n",
       "Job/Job Industry                          0\n",
       "restuarant_opposite_direction_house       0\n",
       "has Children                              0\n",
       "visit restaurant with rating (avg)        0\n",
       "temperature                               0\n",
       "Restaur_spend_greater_than20            160\n",
       "Travel Time                               0\n",
       "Climate                                   0\n",
       "drop location                             0\n",
       "Prefer home food                          0\n",
       "Offer Accepted                            0\n",
       "dtype: int64"
      ]
     },
     "execution_count": 18,
     "metadata": {},
     "output_type": "execute_result"
    }
   ],
   "source": [
    "data.isnull().sum()"
   ]
  },
  {
   "cell_type": "code",
   "execution_count": 19,
   "id": "40c5c166",
   "metadata": {
    "execution": {
     "iopub.execute_input": "2022-11-29T14:21:36.068989Z",
     "iopub.status.busy": "2022-11-29T14:21:36.068033Z",
     "iopub.status.idle": "2022-11-29T14:21:36.107121Z",
     "shell.execute_reply": "2022-11-29T14:21:36.105970Z"
    },
    "papermill": {
     "duration": 0.063262,
     "end_time": "2022-11-29T14:21:36.110220",
     "exception": false,
     "start_time": "2022-11-29T14:21:36.046958",
     "status": "completed"
    },
    "tags": []
   },
   "outputs": [
    {
     "name": "stdout",
     "output_type": "stream",
     "text": [
      "<class 'pandas.core.frame.DataFrame'>\n",
      "Int64Index: 11802 entries, 0 to 12378\n",
      "Data columns (total 30 columns):\n",
      " #   Column                                Non-Null Count  Dtype \n",
      "---  ------                                --------------  ----- \n",
      " 0   offer expiration                      11802 non-null  object\n",
      " 1   income_range                          11802 non-null  object\n",
      " 2   no_visited_Cold drinks                11802 non-null  object\n",
      " 3   travelled_more_than_15mins_for_offer  11802 non-null  int64 \n",
      " 4   Restaur_spend_less_than20             11802 non-null  object\n",
      " 5   Marital Status                        11802 non-null  object\n",
      " 6   restaurant type                       11802 non-null  object\n",
      " 7   age                                   11802 non-null  object\n",
      " 8   Prefer western over chinese           11802 non-null  int64 \n",
      " 9   travelled_more_than_25mins_for_offer  11802 non-null  int64 \n",
      " 10  travelled_more_than_5mins_for_offer   11802 non-null  int64 \n",
      " 11  no_visited_bars                       11802 non-null  object\n",
      " 12  gender                                11802 non-null  object\n",
      " 13  restuarant_same_direction_house       11802 non-null  int64 \n",
      " 14  Cooks regularly                       11802 non-null  int64 \n",
      " 15  Customer type                         11802 non-null  object\n",
      " 16  Qualification                         11802 non-null  object\n",
      " 17  is foodie                             11802 non-null  int64 \n",
      " 18  no_Take-aways                         11802 non-null  object\n",
      " 19  Job/Job Industry                      11802 non-null  object\n",
      " 20  restuarant_opposite_direction_house   11802 non-null  int64 \n",
      " 21  has Children                          11802 non-null  int64 \n",
      " 22  visit restaurant with rating (avg)    11802 non-null  int64 \n",
      " 23  temperature                           11802 non-null  int64 \n",
      " 24  Restaur_spend_greater_than20          11802 non-null  object\n",
      " 25  Travel Time                           11802 non-null  int64 \n",
      " 26  Climate                               11802 non-null  object\n",
      " 27  drop location                         11802 non-null  object\n",
      " 28  Prefer home food                      11802 non-null  int64 \n",
      " 29  Offer Accepted                        11802 non-null  object\n",
      "dtypes: int64(13), object(17)\n",
      "memory usage: 2.8+ MB\n"
     ]
    }
   ],
   "source": [
    "data = data.dropna()\n",
    "data.info()"
   ]
  },
  {
   "cell_type": "code",
   "execution_count": 20,
   "id": "47f10481",
   "metadata": {
    "execution": {
     "iopub.execute_input": "2022-11-29T14:21:36.154520Z",
     "iopub.status.busy": "2022-11-29T14:21:36.153842Z",
     "iopub.status.idle": "2022-11-29T14:21:36.170906Z",
     "shell.execute_reply": "2022-11-29T14:21:36.170048Z"
    },
    "papermill": {
     "duration": 0.041958,
     "end_time": "2022-11-29T14:21:36.173145",
     "exception": false,
     "start_time": "2022-11-29T14:21:36.131187",
     "status": "completed"
    },
    "tags": []
   },
   "outputs": [
    {
     "data": {
      "text/plain": [
       "offer expiration                        0\n",
       "income_range                            0\n",
       "no_visited_Cold drinks                  0\n",
       "travelled_more_than_15mins_for_offer    0\n",
       "Restaur_spend_less_than20               0\n",
       "Marital Status                          0\n",
       "restaurant type                         0\n",
       "age                                     0\n",
       "Prefer western over chinese             0\n",
       "travelled_more_than_25mins_for_offer    0\n",
       "travelled_more_than_5mins_for_offer     0\n",
       "no_visited_bars                         0\n",
       "gender                                  0\n",
       "restuarant_same_direction_house         0\n",
       "Cooks regularly                         0\n",
       "Customer type                           0\n",
       "Qualification                           0\n",
       "is foodie                               0\n",
       "no_Take-aways                           0\n",
       "Job/Job Industry                        0\n",
       "restuarant_opposite_direction_house     0\n",
       "has Children                            0\n",
       "visit restaurant with rating (avg)      0\n",
       "temperature                             0\n",
       "Restaur_spend_greater_than20            0\n",
       "Travel Time                             0\n",
       "Climate                                 0\n",
       "drop location                           0\n",
       "Prefer home food                        0\n",
       "Offer Accepted                          0\n",
       "dtype: int64"
      ]
     },
     "execution_count": 20,
     "metadata": {},
     "output_type": "execute_result"
    }
   ],
   "source": [
    "data.isnull().sum()"
   ]
  },
  {
   "cell_type": "markdown",
   "id": "43855304",
   "metadata": {
    "papermill": {
     "duration": 0.020656,
     "end_time": "2022-11-29T14:21:36.214602",
     "exception": false,
     "start_time": "2022-11-29T14:21:36.193946",
     "status": "completed"
    },
    "tags": []
   },
   "source": [
    "# X - y Split"
   ]
  },
  {
   "cell_type": "code",
   "execution_count": 21,
   "id": "d66ab696",
   "metadata": {
    "execution": {
     "iopub.execute_input": "2022-11-29T14:21:36.260279Z",
     "iopub.status.busy": "2022-11-29T14:21:36.259620Z",
     "iopub.status.idle": "2022-11-29T14:21:36.269172Z",
     "shell.execute_reply": "2022-11-29T14:21:36.268002Z"
    },
    "papermill": {
     "duration": 0.035469,
     "end_time": "2022-11-29T14:21:36.271631",
     "exception": false,
     "start_time": "2022-11-29T14:21:36.236162",
     "status": "completed"
    },
    "tags": []
   },
   "outputs": [
    {
     "data": {
      "text/plain": [
       "((11802, 29), (11802,))"
      ]
     },
     "execution_count": 21,
     "metadata": {},
     "output_type": "execute_result"
    }
   ],
   "source": [
    "y = data['Offer Accepted']\n",
    "X = data.drop('Offer Accepted', axis=1)\n",
    "X.shape, y.shape"
   ]
  },
  {
   "cell_type": "markdown",
   "id": "8a2623cd",
   "metadata": {
    "papermill": {
     "duration": 0.020479,
     "end_time": "2022-11-29T14:21:36.313773",
     "exception": false,
     "start_time": "2022-11-29T14:21:36.293294",
     "status": "completed"
    },
    "tags": []
   },
   "source": [
    "# Column Transformation Pipeline"
   ]
  },
  {
   "cell_type": "code",
   "execution_count": 22,
   "id": "392129bd",
   "metadata": {
    "execution": {
     "iopub.execute_input": "2022-11-29T14:21:36.357799Z",
     "iopub.status.busy": "2022-11-29T14:21:36.357153Z",
     "iopub.status.idle": "2022-11-29T14:21:36.362589Z",
     "shell.execute_reply": "2022-11-29T14:21:36.361692Z"
    },
    "papermill": {
     "duration": 0.030078,
     "end_time": "2022-11-29T14:21:36.364753",
     "exception": false,
     "start_time": "2022-11-29T14:21:36.334675",
     "status": "completed"
    },
    "tags": []
   },
   "outputs": [],
   "source": [
    "ct = ColumnTransformer([\n",
    "    ('step_num_tr', MaxAbsScaler(), num_cols),\n",
    "    ('step_cat_tr', OrdinalEncoder(handle_unknown='use_encoded_value', unknown_value=np.nan), cat_cols)\n",
    "], remainder='passthrough')\n",
    "\n",
    "pipe = Pipeline([\n",
    "    ('step_apply_ct', ct),\n",
    "    ('knnimputer', KNNImputer(n_neighbors=30))   #added\n",
    "])"
   ]
  },
  {
   "cell_type": "code",
   "execution_count": 23,
   "id": "7a9d8c46",
   "metadata": {
    "execution": {
     "iopub.execute_input": "2022-11-29T14:21:36.408186Z",
     "iopub.status.busy": "2022-11-29T14:21:36.407480Z",
     "iopub.status.idle": "2022-11-29T14:21:36.433711Z",
     "shell.execute_reply": "2022-11-29T14:21:36.432575Z"
    },
    "papermill": {
     "duration": 0.051988,
     "end_time": "2022-11-29T14:21:36.437336",
     "exception": false,
     "start_time": "2022-11-29T14:21:36.385348",
     "status": "completed"
    },
    "tags": []
   },
   "outputs": [
    {
     "data": {
      "text/html": [
       "<style>#sk-c2a76b02-2081-4d96-847c-8a57aec2ad55 {color: black;background-color: white;}#sk-c2a76b02-2081-4d96-847c-8a57aec2ad55 pre{padding: 0;}#sk-c2a76b02-2081-4d96-847c-8a57aec2ad55 div.sk-toggleable {background-color: white;}#sk-c2a76b02-2081-4d96-847c-8a57aec2ad55 label.sk-toggleable__label {cursor: pointer;display: block;width: 100%;margin-bottom: 0;padding: 0.3em;box-sizing: border-box;text-align: center;}#sk-c2a76b02-2081-4d96-847c-8a57aec2ad55 label.sk-toggleable__label-arrow:before {content: \"▸\";float: left;margin-right: 0.25em;color: #696969;}#sk-c2a76b02-2081-4d96-847c-8a57aec2ad55 label.sk-toggleable__label-arrow:hover:before {color: black;}#sk-c2a76b02-2081-4d96-847c-8a57aec2ad55 div.sk-estimator:hover label.sk-toggleable__label-arrow:before {color: black;}#sk-c2a76b02-2081-4d96-847c-8a57aec2ad55 div.sk-toggleable__content {max-height: 0;max-width: 0;overflow: hidden;text-align: left;background-color: #f0f8ff;}#sk-c2a76b02-2081-4d96-847c-8a57aec2ad55 div.sk-toggleable__content pre {margin: 0.2em;color: black;border-radius: 0.25em;background-color: #f0f8ff;}#sk-c2a76b02-2081-4d96-847c-8a57aec2ad55 input.sk-toggleable__control:checked~div.sk-toggleable__content {max-height: 200px;max-width: 100%;overflow: auto;}#sk-c2a76b02-2081-4d96-847c-8a57aec2ad55 input.sk-toggleable__control:checked~label.sk-toggleable__label-arrow:before {content: \"▾\";}#sk-c2a76b02-2081-4d96-847c-8a57aec2ad55 div.sk-estimator input.sk-toggleable__control:checked~label.sk-toggleable__label {background-color: #d4ebff;}#sk-c2a76b02-2081-4d96-847c-8a57aec2ad55 div.sk-label input.sk-toggleable__control:checked~label.sk-toggleable__label {background-color: #d4ebff;}#sk-c2a76b02-2081-4d96-847c-8a57aec2ad55 input.sk-hidden--visually {border: 0;clip: rect(1px 1px 1px 1px);clip: rect(1px, 1px, 1px, 1px);height: 1px;margin: -1px;overflow: hidden;padding: 0;position: absolute;width: 1px;}#sk-c2a76b02-2081-4d96-847c-8a57aec2ad55 div.sk-estimator {font-family: monospace;background-color: #f0f8ff;border: 1px dotted black;border-radius: 0.25em;box-sizing: border-box;margin-bottom: 0.5em;}#sk-c2a76b02-2081-4d96-847c-8a57aec2ad55 div.sk-estimator:hover {background-color: #d4ebff;}#sk-c2a76b02-2081-4d96-847c-8a57aec2ad55 div.sk-parallel-item::after {content: \"\";width: 100%;border-bottom: 1px solid gray;flex-grow: 1;}#sk-c2a76b02-2081-4d96-847c-8a57aec2ad55 div.sk-label:hover label.sk-toggleable__label {background-color: #d4ebff;}#sk-c2a76b02-2081-4d96-847c-8a57aec2ad55 div.sk-serial::before {content: \"\";position: absolute;border-left: 1px solid gray;box-sizing: border-box;top: 2em;bottom: 0;left: 50%;}#sk-c2a76b02-2081-4d96-847c-8a57aec2ad55 div.sk-serial {display: flex;flex-direction: column;align-items: center;background-color: white;padding-right: 0.2em;padding-left: 0.2em;}#sk-c2a76b02-2081-4d96-847c-8a57aec2ad55 div.sk-item {z-index: 1;}#sk-c2a76b02-2081-4d96-847c-8a57aec2ad55 div.sk-parallel {display: flex;align-items: stretch;justify-content: center;background-color: white;}#sk-c2a76b02-2081-4d96-847c-8a57aec2ad55 div.sk-parallel::before {content: \"\";position: absolute;border-left: 1px solid gray;box-sizing: border-box;top: 2em;bottom: 0;left: 50%;}#sk-c2a76b02-2081-4d96-847c-8a57aec2ad55 div.sk-parallel-item {display: flex;flex-direction: column;position: relative;background-color: white;}#sk-c2a76b02-2081-4d96-847c-8a57aec2ad55 div.sk-parallel-item:first-child::after {align-self: flex-end;width: 50%;}#sk-c2a76b02-2081-4d96-847c-8a57aec2ad55 div.sk-parallel-item:last-child::after {align-self: flex-start;width: 50%;}#sk-c2a76b02-2081-4d96-847c-8a57aec2ad55 div.sk-parallel-item:only-child::after {width: 0;}#sk-c2a76b02-2081-4d96-847c-8a57aec2ad55 div.sk-dashed-wrapped {border: 1px dashed gray;margin: 0 0.4em 0.5em 0.4em;box-sizing: border-box;padding-bottom: 0.4em;background-color: white;position: relative;}#sk-c2a76b02-2081-4d96-847c-8a57aec2ad55 div.sk-label label {font-family: monospace;font-weight: bold;background-color: white;display: inline-block;line-height: 1.2em;}#sk-c2a76b02-2081-4d96-847c-8a57aec2ad55 div.sk-label-container {position: relative;z-index: 2;text-align: center;}#sk-c2a76b02-2081-4d96-847c-8a57aec2ad55 div.sk-container {/* jupyter's `normalize.less` sets `[hidden] { display: none; }` but bootstrap.min.css set `[hidden] { display: none !important; }` so we also need the `!important` here to be able to override the default hidden behavior on the sphinx rendered scikit-learn.org. See: https://github.com/scikit-learn/scikit-learn/issues/21755 */display: inline-block !important;position: relative;}#sk-c2a76b02-2081-4d96-847c-8a57aec2ad55 div.sk-text-repr-fallback {display: none;}</style><div id=\"sk-c2a76b02-2081-4d96-847c-8a57aec2ad55\" class=\"sk-top-container\"><div class=\"sk-text-repr-fallback\"><pre>Pipeline(steps=[(&#x27;step_apply_ct&#x27;,\n",
       "                 ColumnTransformer(remainder=&#x27;passthrough&#x27;,\n",
       "                                   transformers=[(&#x27;step_num_tr&#x27;, MaxAbsScaler(),\n",
       "                                                  [&#x27;temperature&#x27;,\n",
       "                                                   &#x27;Travel Time&#x27;]),\n",
       "                                                 (&#x27;step_cat_tr&#x27;,\n",
       "                                                  OrdinalEncoder(handle_unknown=&#x27;use_encoded_value&#x27;,\n",
       "                                                                 unknown_value=nan),\n",
       "                                                  [&#x27;offer expiration&#x27;,\n",
       "                                                   &#x27;income_range&#x27;,\n",
       "                                                   &#x27;no_visited_Cold drinks&#x27;,\n",
       "                                                   &#x27;Restaur_spend_less_than20&#x27;,\n",
       "                                                   &#x27;Marital Status&#x27;,\n",
       "                                                   &#x27;restaurant type&#x27;, &#x27;age&#x27;,\n",
       "                                                   &#x27;no_visited_bars&#x27;, &#x27;gender&#x27;,\n",
       "                                                   &#x27;Customer type&#x27;,\n",
       "                                                   &#x27;Qualification&#x27;,\n",
       "                                                   &#x27;no_Take-aways&#x27;,\n",
       "                                                   &#x27;Job/Job Industry&#x27;,\n",
       "                                                   &#x27;Restaur_spend_greater_than20&#x27;,\n",
       "                                                   &#x27;Climate&#x27;,\n",
       "                                                   &#x27;drop location&#x27;])])),\n",
       "                (&#x27;knnimputer&#x27;, KNNImputer(n_neighbors=30))])</pre><b>Please rerun this cell to show the HTML repr or trust the notebook.</b></div><div class=\"sk-container\" hidden><div class=\"sk-item sk-dashed-wrapped\"><div class=\"sk-label-container\"><div class=\"sk-label sk-toggleable\"><input class=\"sk-toggleable__control sk-hidden--visually\" id=\"9ec5afd0-7019-460f-80a0-600bcc7765b1\" type=\"checkbox\" ><label for=\"9ec5afd0-7019-460f-80a0-600bcc7765b1\" class=\"sk-toggleable__label sk-toggleable__label-arrow\">Pipeline</label><div class=\"sk-toggleable__content\"><pre>Pipeline(steps=[(&#x27;step_apply_ct&#x27;,\n",
       "                 ColumnTransformer(remainder=&#x27;passthrough&#x27;,\n",
       "                                   transformers=[(&#x27;step_num_tr&#x27;, MaxAbsScaler(),\n",
       "                                                  [&#x27;temperature&#x27;,\n",
       "                                                   &#x27;Travel Time&#x27;]),\n",
       "                                                 (&#x27;step_cat_tr&#x27;,\n",
       "                                                  OrdinalEncoder(handle_unknown=&#x27;use_encoded_value&#x27;,\n",
       "                                                                 unknown_value=nan),\n",
       "                                                  [&#x27;offer expiration&#x27;,\n",
       "                                                   &#x27;income_range&#x27;,\n",
       "                                                   &#x27;no_visited_Cold drinks&#x27;,\n",
       "                                                   &#x27;Restaur_spend_less_than20&#x27;,\n",
       "                                                   &#x27;Marital Status&#x27;,\n",
       "                                                   &#x27;restaurant type&#x27;, &#x27;age&#x27;,\n",
       "                                                   &#x27;no_visited_bars&#x27;, &#x27;gender&#x27;,\n",
       "                                                   &#x27;Customer type&#x27;,\n",
       "                                                   &#x27;Qualification&#x27;,\n",
       "                                                   &#x27;no_Take-aways&#x27;,\n",
       "                                                   &#x27;Job/Job Industry&#x27;,\n",
       "                                                   &#x27;Restaur_spend_greater_than20&#x27;,\n",
       "                                                   &#x27;Climate&#x27;,\n",
       "                                                   &#x27;drop location&#x27;])])),\n",
       "                (&#x27;knnimputer&#x27;, KNNImputer(n_neighbors=30))])</pre></div></div></div><div class=\"sk-serial\"><div class=\"sk-item sk-dashed-wrapped\"><div class=\"sk-label-container\"><div class=\"sk-label sk-toggleable\"><input class=\"sk-toggleable__control sk-hidden--visually\" id=\"4e3abf12-734f-4947-ae44-51d26387439c\" type=\"checkbox\" ><label for=\"4e3abf12-734f-4947-ae44-51d26387439c\" class=\"sk-toggleable__label sk-toggleable__label-arrow\">step_apply_ct: ColumnTransformer</label><div class=\"sk-toggleable__content\"><pre>ColumnTransformer(remainder=&#x27;passthrough&#x27;,\n",
       "                  transformers=[(&#x27;step_num_tr&#x27;, MaxAbsScaler(),\n",
       "                                 [&#x27;temperature&#x27;, &#x27;Travel Time&#x27;]),\n",
       "                                (&#x27;step_cat_tr&#x27;,\n",
       "                                 OrdinalEncoder(handle_unknown=&#x27;use_encoded_value&#x27;,\n",
       "                                                unknown_value=nan),\n",
       "                                 [&#x27;offer expiration&#x27;, &#x27;income_range&#x27;,\n",
       "                                  &#x27;no_visited_Cold drinks&#x27;,\n",
       "                                  &#x27;Restaur_spend_less_than20&#x27;, &#x27;Marital Status&#x27;,\n",
       "                                  &#x27;restaurant type&#x27;, &#x27;age&#x27;, &#x27;no_visited_bars&#x27;,\n",
       "                                  &#x27;gender&#x27;, &#x27;Customer type&#x27;, &#x27;Qualification&#x27;,\n",
       "                                  &#x27;no_Take-aways&#x27;, &#x27;Job/Job Industry&#x27;,\n",
       "                                  &#x27;Restaur_spend_greater_than20&#x27;, &#x27;Climate&#x27;,\n",
       "                                  &#x27;drop location&#x27;])])</pre></div></div></div><div class=\"sk-parallel\"><div class=\"sk-parallel-item\"><div class=\"sk-item\"><div class=\"sk-label-container\"><div class=\"sk-label sk-toggleable\"><input class=\"sk-toggleable__control sk-hidden--visually\" id=\"eaf99038-ba4c-4564-bea2-32033cf1ed23\" type=\"checkbox\" ><label for=\"eaf99038-ba4c-4564-bea2-32033cf1ed23\" class=\"sk-toggleable__label sk-toggleable__label-arrow\">step_num_tr</label><div class=\"sk-toggleable__content\"><pre>[&#x27;temperature&#x27;, &#x27;Travel Time&#x27;]</pre></div></div></div><div class=\"sk-serial\"><div class=\"sk-item\"><div class=\"sk-estimator sk-toggleable\"><input class=\"sk-toggleable__control sk-hidden--visually\" id=\"0de5c0a7-73ed-4f03-9ba5-d61ea5d0ab49\" type=\"checkbox\" ><label for=\"0de5c0a7-73ed-4f03-9ba5-d61ea5d0ab49\" class=\"sk-toggleable__label sk-toggleable__label-arrow\">MaxAbsScaler</label><div class=\"sk-toggleable__content\"><pre>MaxAbsScaler()</pre></div></div></div></div></div></div><div class=\"sk-parallel-item\"><div class=\"sk-item\"><div class=\"sk-label-container\"><div class=\"sk-label sk-toggleable\"><input class=\"sk-toggleable__control sk-hidden--visually\" id=\"e2c0835c-8adf-4968-b1ca-41cc3bdb0e96\" type=\"checkbox\" ><label for=\"e2c0835c-8adf-4968-b1ca-41cc3bdb0e96\" class=\"sk-toggleable__label sk-toggleable__label-arrow\">step_cat_tr</label><div class=\"sk-toggleable__content\"><pre>[&#x27;offer expiration&#x27;, &#x27;income_range&#x27;, &#x27;no_visited_Cold drinks&#x27;, &#x27;Restaur_spend_less_than20&#x27;, &#x27;Marital Status&#x27;, &#x27;restaurant type&#x27;, &#x27;age&#x27;, &#x27;no_visited_bars&#x27;, &#x27;gender&#x27;, &#x27;Customer type&#x27;, &#x27;Qualification&#x27;, &#x27;no_Take-aways&#x27;, &#x27;Job/Job Industry&#x27;, &#x27;Restaur_spend_greater_than20&#x27;, &#x27;Climate&#x27;, &#x27;drop location&#x27;]</pre></div></div></div><div class=\"sk-serial\"><div class=\"sk-item\"><div class=\"sk-estimator sk-toggleable\"><input class=\"sk-toggleable__control sk-hidden--visually\" id=\"917e6aee-d6c3-4805-b287-d3d3f510befb\" type=\"checkbox\" ><label for=\"917e6aee-d6c3-4805-b287-d3d3f510befb\" class=\"sk-toggleable__label sk-toggleable__label-arrow\">OrdinalEncoder</label><div class=\"sk-toggleable__content\"><pre>OrdinalEncoder(handle_unknown=&#x27;use_encoded_value&#x27;, unknown_value=nan)</pre></div></div></div></div></div></div><div class=\"sk-parallel-item\"><div class=\"sk-item\"><div class=\"sk-label-container\"><div class=\"sk-label sk-toggleable\"><input class=\"sk-toggleable__control sk-hidden--visually\" id=\"9c31a779-2414-4d75-b8db-a9352b41305c\" type=\"checkbox\" ><label for=\"9c31a779-2414-4d75-b8db-a9352b41305c\" class=\"sk-toggleable__label sk-toggleable__label-arrow\">remainder</label><div class=\"sk-toggleable__content\"><pre></pre></div></div></div><div class=\"sk-serial\"><div class=\"sk-item\"><div class=\"sk-estimator sk-toggleable\"><input class=\"sk-toggleable__control sk-hidden--visually\" id=\"4b35b639-b8c6-4040-9c1a-19b1a7a4a434\" type=\"checkbox\" ><label for=\"4b35b639-b8c6-4040-9c1a-19b1a7a4a434\" class=\"sk-toggleable__label sk-toggleable__label-arrow\">passthrough</label><div class=\"sk-toggleable__content\"><pre>passthrough</pre></div></div></div></div></div></div></div></div><div class=\"sk-item\"><div class=\"sk-estimator sk-toggleable\"><input class=\"sk-toggleable__control sk-hidden--visually\" id=\"e6295258-a1eb-4998-8078-a464d8138af8\" type=\"checkbox\" ><label for=\"e6295258-a1eb-4998-8078-a464d8138af8\" class=\"sk-toggleable__label sk-toggleable__label-arrow\">KNNImputer</label><div class=\"sk-toggleable__content\"><pre>KNNImputer(n_neighbors=30)</pre></div></div></div></div></div></div></div>"
      ],
      "text/plain": [
       "Pipeline(steps=[('step_apply_ct',\n",
       "                 ColumnTransformer(remainder='passthrough',\n",
       "                                   transformers=[('step_num_tr', MaxAbsScaler(),\n",
       "                                                  ['temperature',\n",
       "                                                   'Travel Time']),\n",
       "                                                 ('step_cat_tr',\n",
       "                                                  OrdinalEncoder(handle_unknown='use_encoded_value',\n",
       "                                                                 unknown_value=nan),\n",
       "                                                  ['offer expiration',\n",
       "                                                   'income_range',\n",
       "                                                   'no_visited_Cold drinks',\n",
       "                                                   'Restaur_spend_less_than20',\n",
       "                                                   'Marital Status',\n",
       "                                                   'restaurant type', 'age',\n",
       "                                                   'no_visited_bars', 'gender',\n",
       "                                                   'Customer type',\n",
       "                                                   'Qualification',\n",
       "                                                   'no_Take-aways',\n",
       "                                                   'Job/Job Industry',\n",
       "                                                   'Restaur_spend_greater_than20',\n",
       "                                                   'Climate',\n",
       "                                                   'drop location'])])),\n",
       "                ('knnimputer', KNNImputer(n_neighbors=30))])"
      ]
     },
     "execution_count": 23,
     "metadata": {},
     "output_type": "execute_result"
    }
   ],
   "source": [
    "set_config(display='diagram')\n",
    "\n",
    "pipe"
   ]
  },
  {
   "cell_type": "code",
   "execution_count": 24,
   "id": "e910a604",
   "metadata": {
    "execution": {
     "iopub.execute_input": "2022-11-29T14:21:36.482563Z",
     "iopub.status.busy": "2022-11-29T14:21:36.482146Z",
     "iopub.status.idle": "2022-11-29T14:21:37.085402Z",
     "shell.execute_reply": "2022-11-29T14:21:37.084179Z"
    },
    "papermill": {
     "duration": 0.627445,
     "end_time": "2022-11-29T14:21:37.087599",
     "exception": false,
     "start_time": "2022-11-29T14:21:36.460154",
     "status": "completed"
    },
    "tags": []
   },
   "outputs": [
    {
     "name": "stdout",
     "output_type": "stream",
     "text": [
      "(11802, 29) (5305, 29)\n"
     ]
    },
    {
     "data": {
      "text/plain": [
       "array([[0.75280899, 1.        , 1.        , ..., 0.        , 4.        ,\n",
       "        0.        ],\n",
       "       [1.        , 0.81818182, 1.        , ..., 1.        , 3.        ,\n",
       "        0.        ],\n",
       "       [0.75280899, 0.31818182, 1.        , ..., 1.        , 4.        ,\n",
       "        1.        ],\n",
       "       ...,\n",
       "       [1.        , 0.81818182, 0.        , ..., 0.        , 2.        ,\n",
       "        1.        ],\n",
       "       [1.        , 0.31818182, 0.        , ..., 0.        , 1.        ,\n",
       "        0.        ],\n",
       "       [0.75280899, 0.31818182, 1.        , ..., 0.        , 0.        ,\n",
       "        1.        ]])"
      ]
     },
     "execution_count": 24,
     "metadata": {},
     "output_type": "execute_result"
    }
   ],
   "source": [
    "# FitTransform Feature Matrix\n",
    "X_pipe = pipe.fit_transform(X)\n",
    "train_pipe = pipe.fit_transform(X)\n",
    "test_pipe = pipe.transform(test_data)  # fit_transform(test_data)\n",
    "\n",
    "print(train_pipe.shape,test_pipe.shape)\n",
    "\n",
    "X_pipe"
   ]
  },
  {
   "cell_type": "markdown",
   "id": "d5168e90",
   "metadata": {
    "papermill": {
     "duration": 0.020997,
     "end_time": "2022-11-29T14:21:37.130109",
     "exception": false,
     "start_time": "2022-11-29T14:21:37.109112",
     "status": "completed"
    },
    "tags": []
   },
   "source": [
    "> **`Train Test Split`**"
   ]
  },
  {
   "cell_type": "code",
   "execution_count": 25,
   "id": "54745e93",
   "metadata": {
    "execution": {
     "iopub.execute_input": "2022-11-29T14:21:37.175236Z",
     "iopub.status.busy": "2022-11-29T14:21:37.174504Z",
     "iopub.status.idle": "2022-11-29T14:21:37.183064Z",
     "shell.execute_reply": "2022-11-29T14:21:37.182165Z"
    },
    "papermill": {
     "duration": 0.033854,
     "end_time": "2022-11-29T14:21:37.185461",
     "exception": false,
     "start_time": "2022-11-29T14:21:37.151607",
     "status": "completed"
    },
    "tags": []
   },
   "outputs": [],
   "source": [
    "X_train, X_test, y_train, y_test = train_test_split(X_pipe, y, test_size=0.2, random_state=42)\n"
   ]
  },
  {
   "cell_type": "markdown",
   "id": "eb4d7435",
   "metadata": {
    "papermill": {
     "duration": 0.021477,
     "end_time": "2022-11-29T14:21:37.228606",
     "exception": false,
     "start_time": "2022-11-29T14:21:37.207129",
     "status": "completed"
    },
    "tags": []
   },
   "source": [
    "# Model Training"
   ]
  },
  {
   "cell_type": "markdown",
   "id": "14a0c3cd",
   "metadata": {
    "papermill": {
     "duration": 0.021143,
     "end_time": "2022-11-29T14:21:37.272353",
     "exception": false,
     "start_time": "2022-11-29T14:21:37.251210",
     "status": "completed"
    },
    "tags": []
   },
   "source": [
    "### **Logistic Regression**"
   ]
  },
  {
   "cell_type": "code",
   "execution_count": 26,
   "id": "80907144",
   "metadata": {
    "execution": {
     "iopub.execute_input": "2022-11-29T14:21:37.318572Z",
     "iopub.status.busy": "2022-11-29T14:21:37.317837Z",
     "iopub.status.idle": "2022-11-29T14:21:37.321941Z",
     "shell.execute_reply": "2022-11-29T14:21:37.321084Z"
    },
    "papermill": {
     "duration": 0.030243,
     "end_time": "2022-11-29T14:21:37.324093",
     "exception": false,
     "start_time": "2022-11-29T14:21:37.293850",
     "status": "completed"
    },
    "tags": []
   },
   "outputs": [],
   "source": [
    "# logistic_reg = SGDClassifier(\n",
    "#     loss='log',\n",
    "#     eta0=0.01,\n",
    "#     learning_rate='adaptive',\n",
    "#     alpha=0.01,\n",
    "#     random_state=42, \n",
    "#     max_iter=1000,\n",
    "# )\n",
    "# logistic_reg.fit(X_train, y_train)"
   ]
  },
  {
   "cell_type": "code",
   "execution_count": 27,
   "id": "1d2b49dc",
   "metadata": {
    "execution": {
     "iopub.execute_input": "2022-11-29T14:21:37.369715Z",
     "iopub.status.busy": "2022-11-29T14:21:37.369281Z",
     "iopub.status.idle": "2022-11-29T14:21:37.374217Z",
     "shell.execute_reply": "2022-11-29T14:21:37.373107Z"
    },
    "papermill": {
     "duration": 0.03095,
     "end_time": "2022-11-29T14:21:37.376640",
     "exception": false,
     "start_time": "2022-11-29T14:21:37.345690",
     "status": "completed"
    },
    "tags": []
   },
   "outputs": [],
   "source": [
    "# y_pred = logistic_reg.predict(X_test)\n",
    "# print(\"y_pred :\", y_pred)\n",
    "# print(classification_report(y_test, y_pred))\n",
    "# cvscore = cross_val_score(logistic_reg, X_train, y_train, cv=9)\n",
    "# print(\"Cross_Val_Score :\", cvscore)\n",
    "# print(\"\\nMean Cross_Val_Score :\", cvscore.mean())"
   ]
  },
  {
   "cell_type": "code",
   "execution_count": 28,
   "id": "449928f9",
   "metadata": {
    "execution": {
     "iopub.execute_input": "2022-11-29T14:21:37.421299Z",
     "iopub.status.busy": "2022-11-29T14:21:37.420871Z",
     "iopub.status.idle": "2022-11-29T14:21:37.426442Z",
     "shell.execute_reply": "2022-11-29T14:21:37.424880Z"
    },
    "papermill": {
     "duration": 0.030843,
     "end_time": "2022-11-29T14:21:37.428874",
     "exception": false,
     "start_time": "2022-11-29T14:21:37.398031",
     "status": "completed"
    },
    "tags": []
   },
   "outputs": [],
   "source": [
    "# ## HPT\n",
    "# y_train_en = LabelBinarizer().fit_transform(y_train).ravel()\n",
    "# y_test_en = LabelBinarizer().fit_transform(y_test).ravel()\n",
    "\n",
    "# estimator = SGDClassifier(\n",
    "#     loss='log', \n",
    "#     learning_rate='adaptive', \n",
    "#     alpha=0.01\n",
    "# )\n",
    "# param_grid = {\n",
    "#     'eta0' : [0.01,0.1,1.0,10]\n",
    "# }\n",
    "# gscv = GridSearchCV(\n",
    "#     estimator=estimator,\n",
    "#     param_grid=param_grid,\n",
    "#     scoring='f1'\n",
    "# )\n",
    "# gscv.fit(X_train, y_train_en)\n",
    "\n",
    "# gscv.best_params_"
   ]
  },
  {
   "cell_type": "markdown",
   "id": "e818fb4a",
   "metadata": {
    "papermill": {
     "duration": 0.020731,
     "end_time": "2022-11-29T14:21:37.471035",
     "exception": false,
     "start_time": "2022-11-29T14:21:37.450304",
     "status": "completed"
    },
    "tags": []
   },
   "source": [
    "---"
   ]
  },
  {
   "cell_type": "markdown",
   "id": "e3a87eca",
   "metadata": {
    "papermill": {
     "duration": 0.020704,
     "end_time": "2022-11-29T14:21:37.513601",
     "exception": false,
     "start_time": "2022-11-29T14:21:37.492897",
     "status": "completed"
    },
    "tags": []
   },
   "source": [
    "### **Ridge Classifier**"
   ]
  },
  {
   "cell_type": "code",
   "execution_count": 29,
   "id": "55e30702",
   "metadata": {
    "execution": {
     "iopub.execute_input": "2022-11-29T14:21:37.557997Z",
     "iopub.status.busy": "2022-11-29T14:21:37.557329Z",
     "iopub.status.idle": "2022-11-29T14:21:37.562375Z",
     "shell.execute_reply": "2022-11-29T14:21:37.561156Z"
    },
    "papermill": {
     "duration": 0.030522,
     "end_time": "2022-11-29T14:21:37.565272",
     "exception": false,
     "start_time": "2022-11-29T14:21:37.534750",
     "status": "completed"
    },
    "tags": []
   },
   "outputs": [],
   "source": [
    "# ridge = RidgeClassifier()\n",
    "# ridge.fit(X_train, y_train)"
   ]
  },
  {
   "cell_type": "code",
   "execution_count": 30,
   "id": "f4311d37",
   "metadata": {
    "execution": {
     "iopub.execute_input": "2022-11-29T14:21:37.609157Z",
     "iopub.status.busy": "2022-11-29T14:21:37.608711Z",
     "iopub.status.idle": "2022-11-29T14:21:37.614002Z",
     "shell.execute_reply": "2022-11-29T14:21:37.612831Z"
    },
    "papermill": {
     "duration": 0.030661,
     "end_time": "2022-11-29T14:21:37.616941",
     "exception": false,
     "start_time": "2022-11-29T14:21:37.586280",
     "status": "completed"
    },
    "tags": []
   },
   "outputs": [],
   "source": [
    "# y_pred = ridge.predict(X_test)\n",
    "# print(\"y_pred :\", y_pred)\n",
    "# print(classification_report(y_test, y_pred))\n",
    "# cvscore = cross_val_score(ridge, X_train, y_train, cv=9)\n",
    "# print(\"Cross_Val_Score :\", cvscore)\n",
    "# print(\"\\nMean Cross_Val_Score :\", cvscore.mean())"
   ]
  },
  {
   "cell_type": "markdown",
   "id": "eb9e048f",
   "metadata": {
    "papermill": {
     "duration": 0.020394,
     "end_time": "2022-11-29T14:21:37.658401",
     "exception": false,
     "start_time": "2022-11-29T14:21:37.638007",
     "status": "completed"
    },
    "tags": []
   },
   "source": [
    "---"
   ]
  },
  {
   "cell_type": "markdown",
   "id": "4e4dd825",
   "metadata": {
    "papermill": {
     "duration": 0.020279,
     "end_time": "2022-11-29T14:21:37.699708",
     "exception": false,
     "start_time": "2022-11-29T14:21:37.679429",
     "status": "completed"
    },
    "tags": []
   },
   "source": [
    "### **SVM(SVC)**"
   ]
  },
  {
   "cell_type": "code",
   "execution_count": 31,
   "id": "b9c24e9d",
   "metadata": {
    "execution": {
     "iopub.execute_input": "2022-11-29T14:21:37.743362Z",
     "iopub.status.busy": "2022-11-29T14:21:37.742877Z",
     "iopub.status.idle": "2022-11-29T14:21:37.748483Z",
     "shell.execute_reply": "2022-11-29T14:21:37.747398Z"
    },
    "papermill": {
     "duration": 0.030443,
     "end_time": "2022-11-29T14:21:37.750696",
     "exception": false,
     "start_time": "2022-11-29T14:21:37.720253",
     "status": "completed"
    },
    "tags": []
   },
   "outputs": [],
   "source": [
    "# ## HPT\n",
    "# y_train_en = LabelBinarizer().fit_transform(y_train).ravel()\n",
    "# y_test_en = LabelBinarizer().fit_transform(y_test).ravel()\n",
    "\n",
    "# estimator = SVC(gamma='auto')\n",
    "# param_grid = {\n",
    "#     'C' : [1.0,1.2,1.4]\n",
    "# }\n",
    "\n",
    "# gscv = GridSearchCV(\n",
    "#     estimator=estimator,\n",
    "#     param_grid=param_grid,\n",
    "#     scoring='f1'\n",
    "# )\n",
    "# gscv.fit(X_train, y_train_en)\n",
    "# gscv.best_params_"
   ]
  },
  {
   "cell_type": "code",
   "execution_count": 32,
   "id": "7b74597a",
   "metadata": {
    "execution": {
     "iopub.execute_input": "2022-11-29T14:21:37.795277Z",
     "iopub.status.busy": "2022-11-29T14:21:37.793762Z",
     "iopub.status.idle": "2022-11-29T14:21:37.799648Z",
     "shell.execute_reply": "2022-11-29T14:21:37.798624Z"
    },
    "papermill": {
     "duration": 0.030761,
     "end_time": "2022-11-29T14:21:37.802209",
     "exception": false,
     "start_time": "2022-11-29T14:21:37.771448",
     "status": "completed"
    },
    "tags": []
   },
   "outputs": [],
   "source": [
    "# ## MODEL\n",
    "# svc_classifier = SVC(\n",
    "#     C=1.0,\n",
    "#     gamma='auto'\n",
    "# )\n",
    "# svc_classifier.fit(X_train, y_train)"
   ]
  },
  {
   "cell_type": "code",
   "execution_count": 33,
   "id": "b2e6cd63",
   "metadata": {
    "execution": {
     "iopub.execute_input": "2022-11-29T14:21:37.847393Z",
     "iopub.status.busy": "2022-11-29T14:21:37.846665Z",
     "iopub.status.idle": "2022-11-29T14:21:37.850638Z",
     "shell.execute_reply": "2022-11-29T14:21:37.849897Z"
    },
    "papermill": {
     "duration": 0.028586,
     "end_time": "2022-11-29T14:21:37.852735",
     "exception": false,
     "start_time": "2022-11-29T14:21:37.824149",
     "status": "completed"
    },
    "tags": []
   },
   "outputs": [],
   "source": [
    "# y_pred = svc_classifier.predict(X_test)\n",
    "# print(\"y_pred :\", y_pred)\n",
    "# print(classification_report(y_test, y_pred))\n",
    "# # cvscore = cross_val_score(svc_classifier, X_train, y_train, cv=9)\n",
    "# # print(\"Cross_Val_Score :\", cvscore)\n",
    "# # print(\"\\nMean Cross_Val_Score :\", cvscore.mean())"
   ]
  },
  {
   "cell_type": "markdown",
   "id": "6cdf71da",
   "metadata": {
    "papermill": {
     "duration": 0.020655,
     "end_time": "2022-11-29T14:21:37.894732",
     "exception": false,
     "start_time": "2022-11-29T14:21:37.874077",
     "status": "completed"
    },
    "tags": []
   },
   "source": [
    "### **BaggingClassifier**"
   ]
  },
  {
   "cell_type": "code",
   "execution_count": 34,
   "id": "38497946",
   "metadata": {
    "execution": {
     "iopub.execute_input": "2022-11-29T14:21:37.939383Z",
     "iopub.status.busy": "2022-11-29T14:21:37.938681Z",
     "iopub.status.idle": "2022-11-29T14:21:37.943227Z",
     "shell.execute_reply": "2022-11-29T14:21:37.942131Z"
    },
    "papermill": {
     "duration": 0.02943,
     "end_time": "2022-11-29T14:21:37.945377",
     "exception": false,
     "start_time": "2022-11-29T14:21:37.915947",
     "status": "completed"
    },
    "tags": []
   },
   "outputs": [],
   "source": [
    "# ## HPT\n",
    "# y_train_en = LabelBinarizer().fit_transform(y_train).ravel()\n",
    "# y_test_en = LabelBinarizer().fit_transform(y_test).ravel()\n",
    "# estimator = BaggingClassifier(\n",
    "#     base_estimator=SVC(gamma='auto'),\n",
    "# )\n",
    "# param_grid = {\n",
    "#     'n_estimators' : [10,20,30]\n",
    "# }\n",
    "\n",
    "# gscv = GridSearchCV(\n",
    "#     estimator=estimator,\n",
    "#     param_grid=param_grid,\n",
    "#     scoring='f1'\n",
    "# )\n",
    "# gscv.fit(X_train, y_train_en)   # y_train)\n",
    "# gscv.best_params_"
   ]
  },
  {
   "cell_type": "code",
   "execution_count": 35,
   "id": "480284e6",
   "metadata": {
    "execution": {
     "iopub.execute_input": "2022-11-29T14:21:37.989386Z",
     "iopub.status.busy": "2022-11-29T14:21:37.988975Z",
     "iopub.status.idle": "2022-11-29T14:21:37.993665Z",
     "shell.execute_reply": "2022-11-29T14:21:37.992778Z"
    },
    "papermill": {
     "duration": 0.029238,
     "end_time": "2022-11-29T14:21:37.995716",
     "exception": false,
     "start_time": "2022-11-29T14:21:37.966478",
     "status": "completed"
    },
    "tags": []
   },
   "outputs": [],
   "source": [
    "# ## MODEL\n",
    "# clfmodel = BaggingClassifier(\n",
    "#     base_estimator=SVC(gamma='auto'),\n",
    "#     n_estimators=20\n",
    "# )\n",
    "# clfmodel.fit(X_train, y_train)"
   ]
  },
  {
   "cell_type": "code",
   "execution_count": 36,
   "id": "102c8fad",
   "metadata": {
    "execution": {
     "iopub.execute_input": "2022-11-29T14:21:38.039557Z",
     "iopub.status.busy": "2022-11-29T14:21:38.039127Z",
     "iopub.status.idle": "2022-11-29T14:21:38.043939Z",
     "shell.execute_reply": "2022-11-29T14:21:38.042677Z"
    },
    "papermill": {
     "duration": 0.029162,
     "end_time": "2022-11-29T14:21:38.046056",
     "exception": false,
     "start_time": "2022-11-29T14:21:38.016894",
     "status": "completed"
    },
    "tags": []
   },
   "outputs": [],
   "source": [
    "# y_pred = clfmodel.predict(X_test)\n",
    "# print(\"y_pred :\", y_pred)\n",
    "# print(classification_report(y_test, y_pred))\n",
    "# # cvscore = cross_val_score(clfmodel, X_train, y_train, cv=9)\n",
    "# # print(\"Cross_Val_Score :\", cvscore)\n",
    "# # print(\"\\nMean Cross_Val_Score :\", cvscore.mean())"
   ]
  },
  {
   "cell_type": "markdown",
   "id": "3eb2664b",
   "metadata": {
    "papermill": {
     "duration": 0.02065,
     "end_time": "2022-11-29T14:21:38.087716",
     "exception": false,
     "start_time": "2022-11-29T14:21:38.067066",
     "status": "completed"
    },
    "tags": []
   },
   "source": [
    "---"
   ]
  },
  {
   "cell_type": "markdown",
   "id": "67bff254",
   "metadata": {
    "papermill": {
     "duration": 0.020728,
     "end_time": "2022-11-29T14:21:38.129496",
     "exception": false,
     "start_time": "2022-11-29T14:21:38.108768",
     "status": "completed"
    },
    "tags": []
   },
   "source": [
    "### **AdaBoostClassifier**"
   ]
  },
  {
   "cell_type": "code",
   "execution_count": 37,
   "id": "afe187e0",
   "metadata": {
    "execution": {
     "iopub.execute_input": "2022-11-29T14:21:38.173842Z",
     "iopub.status.busy": "2022-11-29T14:21:38.173438Z",
     "iopub.status.idle": "2022-11-29T14:21:38.177944Z",
     "shell.execute_reply": "2022-11-29T14:21:38.176922Z"
    },
    "papermill": {
     "duration": 0.029308,
     "end_time": "2022-11-29T14:21:38.180113",
     "exception": false,
     "start_time": "2022-11-29T14:21:38.150805",
     "status": "completed"
    },
    "tags": []
   },
   "outputs": [],
   "source": [
    "# ## MODEL\n",
    "# clfmodel = AdaBoostClassifier(\n",
    "#     # base_estimator=SVC(gamma='auto'),\n",
    "#     n_estimators=100,\n",
    "#     # algorithm='SAMME',\n",
    "# )\n",
    "# clfmodel.fit(X_train, y_train)"
   ]
  },
  {
   "cell_type": "code",
   "execution_count": 38,
   "id": "c5404c13",
   "metadata": {
    "execution": {
     "iopub.execute_input": "2022-11-29T14:21:38.225089Z",
     "iopub.status.busy": "2022-11-29T14:21:38.223878Z",
     "iopub.status.idle": "2022-11-29T14:21:38.229816Z",
     "shell.execute_reply": "2022-11-29T14:21:38.228318Z"
    },
    "papermill": {
     "duration": 0.030803,
     "end_time": "2022-11-29T14:21:38.232235",
     "exception": false,
     "start_time": "2022-11-29T14:21:38.201432",
     "status": "completed"
    },
    "tags": []
   },
   "outputs": [],
   "source": [
    "# y_pred = clfmodel.predict(X_test)\n",
    "# print(\"y_pred :\", y_pred)\n",
    "# print(classification_report(y_test, y_pred))\n",
    "# # cvscore = cross_val_score(clfmodel, X_train, y_train, cv=9)\n",
    "# # print(\"Cross_Val_Score :\", cvscore)\n",
    "# # print(\"\\nMean Cross_Val_Score :\", cvscore.mean())"
   ]
  },
  {
   "cell_type": "markdown",
   "id": "33937efe",
   "metadata": {
    "papermill": {
     "duration": 0.021017,
     "end_time": "2022-11-29T14:21:38.275456",
     "exception": false,
     "start_time": "2022-11-29T14:21:38.254439",
     "status": "completed"
    },
    "tags": []
   },
   "source": [
    "---"
   ]
  },
  {
   "cell_type": "markdown",
   "id": "8d81cf48",
   "metadata": {
    "papermill": {
     "duration": 0.02055,
     "end_time": "2022-11-29T14:21:38.317270",
     "exception": false,
     "start_time": "2022-11-29T14:21:38.296720",
     "status": "completed"
    },
    "tags": []
   },
   "source": [
    "### **GradientBoostingClassifier**"
   ]
  },
  {
   "cell_type": "code",
   "execution_count": 39,
   "id": "e9b4dc8e",
   "metadata": {
    "execution": {
     "iopub.execute_input": "2022-11-29T14:21:38.361210Z",
     "iopub.status.busy": "2022-11-29T14:21:38.360795Z",
     "iopub.status.idle": "2022-11-29T14:21:38.365913Z",
     "shell.execute_reply": "2022-11-29T14:21:38.364827Z"
    },
    "papermill": {
     "duration": 0.030011,
     "end_time": "2022-11-29T14:21:38.368423",
     "exception": false,
     "start_time": "2022-11-29T14:21:38.338412",
     "status": "completed"
    },
    "tags": []
   },
   "outputs": [],
   "source": [
    "# ## HPT\n",
    "# y_train_en = LabelBinarizer().fit_transform(y_train).ravel()\n",
    "# y_test_en = LabelBinarizer().fit_transform(y_test).ravel()\n",
    "# estimator = GradientBoostingClassifier(\n",
    "# #     base_estimator=SVC(gamma='auto'),\n",
    "# )\n",
    "# param_grid = {\n",
    "# #     'loss' : ['log', 'deviance', 'exponential'], # log_loss\n",
    "#     'learning_rate' : [0.1,0.2,0.3],\n",
    "#     'n_estimators' : [100,150,200],\n",
    "# }\n",
    "\n",
    "# gscv = GridSearchCV(\n",
    "#     estimator=estimator,\n",
    "#     param_grid=param_grid,\n",
    "#     scoring='f1'\n",
    "# )\n",
    "# gscv.fit(X_train, y_train_en)   # y_train)\n",
    "# gscv.best_params_"
   ]
  },
  {
   "cell_type": "code",
   "execution_count": 40,
   "id": "05d9d619",
   "metadata": {
    "execution": {
     "iopub.execute_input": "2022-11-29T14:21:38.414801Z",
     "iopub.status.busy": "2022-11-29T14:21:38.414407Z",
     "iopub.status.idle": "2022-11-29T14:21:38.418799Z",
     "shell.execute_reply": "2022-11-29T14:21:38.417760Z"
    },
    "papermill": {
     "duration": 0.030394,
     "end_time": "2022-11-29T14:21:38.421010",
     "exception": false,
     "start_time": "2022-11-29T14:21:38.390616",
     "status": "completed"
    },
    "tags": []
   },
   "outputs": [],
   "source": [
    "# ## MODEL\n",
    "# clfmodel = GradientBoostingClassifier(\n",
    "# #     loss='deviance',\n",
    "#     learning_rate=0.3,\n",
    "# )\n",
    "# clfmodel.fit(X_train, y_train)"
   ]
  },
  {
   "cell_type": "code",
   "execution_count": 41,
   "id": "87cb63eb",
   "metadata": {
    "execution": {
     "iopub.execute_input": "2022-11-29T14:21:38.464446Z",
     "iopub.status.busy": "2022-11-29T14:21:38.464021Z",
     "iopub.status.idle": "2022-11-29T14:21:38.468838Z",
     "shell.execute_reply": "2022-11-29T14:21:38.467755Z"
    },
    "papermill": {
     "duration": 0.028882,
     "end_time": "2022-11-29T14:21:38.470992",
     "exception": false,
     "start_time": "2022-11-29T14:21:38.442110",
     "status": "completed"
    },
    "tags": []
   },
   "outputs": [],
   "source": [
    "# y_pred = clfmodel.predict(X_test)\n",
    "# print(\"y_pred :\", y_pred)\n",
    "# print(classification_report(y_test, y_pred))\n",
    "# # cvscore = cross_val_score(clfmodel, X_train, y_train, cv=9)\n",
    "# # print(\"Cross_Val_Score :\", cvscore)\n",
    "# # print(\"\\nMean Cross_Val_Score :\", cvscore.mean())"
   ]
  },
  {
   "cell_type": "markdown",
   "id": "c7924c75",
   "metadata": {
    "papermill": {
     "duration": 0.0203,
     "end_time": "2022-11-29T14:21:38.511927",
     "exception": false,
     "start_time": "2022-11-29T14:21:38.491627",
     "status": "completed"
    },
    "tags": []
   },
   "source": [
    "### **GaussianNB**"
   ]
  },
  {
   "cell_type": "code",
   "execution_count": 42,
   "id": "d49be975",
   "metadata": {
    "execution": {
     "iopub.execute_input": "2022-11-29T14:21:38.555454Z",
     "iopub.status.busy": "2022-11-29T14:21:38.555088Z",
     "iopub.status.idle": "2022-11-29T14:21:38.559655Z",
     "shell.execute_reply": "2022-11-29T14:21:38.558315Z"
    },
    "papermill": {
     "duration": 0.028903,
     "end_time": "2022-11-29T14:21:38.561675",
     "exception": false,
     "start_time": "2022-11-29T14:21:38.532772",
     "status": "completed"
    },
    "tags": []
   },
   "outputs": [],
   "source": [
    "# ## MODEL\n",
    "# clfmodel = GaussianNB(\n",
    "#     # base_estimator=SVC(gamma='auto'),\n",
    "#     # n_estimators=100,\n",
    "#     # algorithm='SAMME',\n",
    "# )\n",
    "# clfmodel.fit(X_train, y_train)"
   ]
  },
  {
   "cell_type": "code",
   "execution_count": 43,
   "id": "4899cfd9",
   "metadata": {
    "execution": {
     "iopub.execute_input": "2022-11-29T14:21:38.606913Z",
     "iopub.status.busy": "2022-11-29T14:21:38.606441Z",
     "iopub.status.idle": "2022-11-29T14:21:38.610919Z",
     "shell.execute_reply": "2022-11-29T14:21:38.610136Z"
    },
    "papermill": {
     "duration": 0.030192,
     "end_time": "2022-11-29T14:21:38.612897",
     "exception": false,
     "start_time": "2022-11-29T14:21:38.582705",
     "status": "completed"
    },
    "tags": []
   },
   "outputs": [],
   "source": [
    "# y_pred = clfmodel.predict(X_test)\n",
    "# print(\"y_pred :\", y_pred)\n",
    "# print(classification_report(y_test, y_pred))\n",
    "# # cvscore = cross_val_score(clfmodel, X_train, y_train, cv=9)\n",
    "# # print(\"Cross_Val_Score :\", cvscore)\n",
    "# # print(\"\\nMean Cross_Val_Score :\", cvscore.mean())"
   ]
  },
  {
   "cell_type": "markdown",
   "id": "ecf8eb74",
   "metadata": {
    "papermill": {
     "duration": 0.020321,
     "end_time": "2022-11-29T14:21:38.654144",
     "exception": false,
     "start_time": "2022-11-29T14:21:38.633823",
     "status": "completed"
    },
    "tags": []
   },
   "source": [
    "### **RandomForestClassifier**"
   ]
  },
  {
   "cell_type": "code",
   "execution_count": 44,
   "id": "6a8124eb",
   "metadata": {
    "execution": {
     "iopub.execute_input": "2022-11-29T14:21:38.697599Z",
     "iopub.status.busy": "2022-11-29T14:21:38.697083Z",
     "iopub.status.idle": "2022-11-29T14:21:38.701991Z",
     "shell.execute_reply": "2022-11-29T14:21:38.701219Z"
    },
    "papermill": {
     "duration": 0.0291,
     "end_time": "2022-11-29T14:21:38.703936",
     "exception": false,
     "start_time": "2022-11-29T14:21:38.674836",
     "status": "completed"
    },
    "tags": []
   },
   "outputs": [],
   "source": [
    "# ## HPT\n",
    "# y_train_en = LabelBinarizer().fit_transform(y_train).ravel()\n",
    "# y_test_en = LabelBinarizer().fit_transform(y_test).ravel()\n",
    "# estimator = RandomForestClassifier(\n",
    "#     # base_estimator=SVC(gamma='auto'),\n",
    "# )\n",
    "# param_grid = {\n",
    "#     'criterion' : ['gini', 'entropy'],\n",
    "#     'max_features' : ['sqrt', 'log2'],\n",
    "#     'bootstrap' : [True,False]\n",
    "# }\n",
    "\n",
    "# gscv = GridSearchCV(\n",
    "#     estimator=estimator,\n",
    "#     param_grid=param_grid,\n",
    "#     scoring='f1'\n",
    "# )\n",
    "# gscv.fit(X_train, y_train_en)   # y_train)\n",
    "# gscv.best_params_"
   ]
  },
  {
   "cell_type": "code",
   "execution_count": 45,
   "id": "6303eee5",
   "metadata": {
    "execution": {
     "iopub.execute_input": "2022-11-29T14:21:38.747758Z",
     "iopub.status.busy": "2022-11-29T14:21:38.746522Z",
     "iopub.status.idle": "2022-11-29T14:21:38.751511Z",
     "shell.execute_reply": "2022-11-29T14:21:38.750721Z"
    },
    "papermill": {
     "duration": 0.029092,
     "end_time": "2022-11-29T14:21:38.753514",
     "exception": false,
     "start_time": "2022-11-29T14:21:38.724422",
     "status": "completed"
    },
    "tags": []
   },
   "outputs": [],
   "source": [
    "# ## MODEL\n",
    "# clfmodel = RandomForestClassifier(\n",
    "#     criterion='entropy',\n",
    "#     max_features='log2',\n",
    "# )\n",
    "# clfmodel.fit(X_train, y_train)"
   ]
  },
  {
   "cell_type": "code",
   "execution_count": 46,
   "id": "ab49958f",
   "metadata": {
    "execution": {
     "iopub.execute_input": "2022-11-29T14:21:38.797776Z",
     "iopub.status.busy": "2022-11-29T14:21:38.796580Z",
     "iopub.status.idle": "2022-11-29T14:21:38.801110Z",
     "shell.execute_reply": "2022-11-29T14:21:38.800378Z"
    },
    "papermill": {
     "duration": 0.029048,
     "end_time": "2022-11-29T14:21:38.803112",
     "exception": false,
     "start_time": "2022-11-29T14:21:38.774064",
     "status": "completed"
    },
    "tags": []
   },
   "outputs": [],
   "source": [
    "# y_pred = clfmodel.predict(X_test)\n",
    "# print(\"y_pred :\", y_pred)\n",
    "# print(classification_report(y_test, y_pred))\n",
    "# # cvscore = cross_val_score(clfmodel, X_train, y_train, cv=9)\n",
    "# # print(\"Cross_Val_Score :\", cvscore)\n",
    "# # print(\"\\nMean Cross_Val_Score :\", cvscore.mean())"
   ]
  },
  {
   "cell_type": "markdown",
   "id": "9e1653ba",
   "metadata": {
    "papermill": {
     "duration": 0.020527,
     "end_time": "2022-11-29T14:21:38.844303",
     "exception": false,
     "start_time": "2022-11-29T14:21:38.823776",
     "status": "completed"
    },
    "tags": []
   },
   "source": [
    "### **HistGradientBoostingClassifier**"
   ]
  },
  {
   "cell_type": "code",
   "execution_count": 47,
   "id": "cfc90948",
   "metadata": {
    "execution": {
     "iopub.execute_input": "2022-11-29T14:21:38.887863Z",
     "iopub.status.busy": "2022-11-29T14:21:38.886925Z",
     "iopub.status.idle": "2022-11-29T14:21:38.892639Z",
     "shell.execute_reply": "2022-11-29T14:21:38.891846Z"
    },
    "papermill": {
     "duration": 0.030159,
     "end_time": "2022-11-29T14:21:38.894934",
     "exception": false,
     "start_time": "2022-11-29T14:21:38.864775",
     "status": "completed"
    },
    "tags": []
   },
   "outputs": [],
   "source": [
    "# ## HPT\n",
    "# y_train_en = LabelBinarizer().fit_transform(y_train).ravel()\n",
    "# y_test_en = LabelBinarizer().fit_transform(y_test).ravel()\n",
    "# estimator = HistGradientBoostingClassifier(\n",
    "#     # base_estimator=SVC(gamma='auto'),\n",
    "# )\n",
    "# param_grid = {\n",
    "#     'loss' : ['auto', 'binary_crossentropy'],\n",
    "#     'learning_rate' : [0.07,0.1,0.2],\n",
    "\n",
    "    \n",
    "# }\n",
    "\n",
    "# gscv = GridSearchCV(\n",
    "#     estimator=estimator,\n",
    "#     param_grid=param_grid,\n",
    "#     scoring='f1'\n",
    "# )\n",
    "# gscv.fit(X_train, y_train_en)   # y_train)\n",
    "# gscv.best_params_"
   ]
  },
  {
   "cell_type": "code",
   "execution_count": 48,
   "id": "29c96ede",
   "metadata": {
    "execution": {
     "iopub.execute_input": "2022-11-29T14:21:38.938326Z",
     "iopub.status.busy": "2022-11-29T14:21:38.937447Z",
     "iopub.status.idle": "2022-11-29T14:21:39.619015Z",
     "shell.execute_reply": "2022-11-29T14:21:39.617801Z"
    },
    "papermill": {
     "duration": 0.70615,
     "end_time": "2022-11-29T14:21:39.621587",
     "exception": false,
     "start_time": "2022-11-29T14:21:38.915437",
     "status": "completed"
    },
    "tags": []
   },
   "outputs": [
    {
     "data": {
      "text/html": [
       "<style>#sk-a00a6f73-1589-4e8b-804b-1922e934bbb4 {color: black;background-color: white;}#sk-a00a6f73-1589-4e8b-804b-1922e934bbb4 pre{padding: 0;}#sk-a00a6f73-1589-4e8b-804b-1922e934bbb4 div.sk-toggleable {background-color: white;}#sk-a00a6f73-1589-4e8b-804b-1922e934bbb4 label.sk-toggleable__label {cursor: pointer;display: block;width: 100%;margin-bottom: 0;padding: 0.3em;box-sizing: border-box;text-align: center;}#sk-a00a6f73-1589-4e8b-804b-1922e934bbb4 label.sk-toggleable__label-arrow:before {content: \"▸\";float: left;margin-right: 0.25em;color: #696969;}#sk-a00a6f73-1589-4e8b-804b-1922e934bbb4 label.sk-toggleable__label-arrow:hover:before {color: black;}#sk-a00a6f73-1589-4e8b-804b-1922e934bbb4 div.sk-estimator:hover label.sk-toggleable__label-arrow:before {color: black;}#sk-a00a6f73-1589-4e8b-804b-1922e934bbb4 div.sk-toggleable__content {max-height: 0;max-width: 0;overflow: hidden;text-align: left;background-color: #f0f8ff;}#sk-a00a6f73-1589-4e8b-804b-1922e934bbb4 div.sk-toggleable__content pre {margin: 0.2em;color: black;border-radius: 0.25em;background-color: #f0f8ff;}#sk-a00a6f73-1589-4e8b-804b-1922e934bbb4 input.sk-toggleable__control:checked~div.sk-toggleable__content {max-height: 200px;max-width: 100%;overflow: auto;}#sk-a00a6f73-1589-4e8b-804b-1922e934bbb4 input.sk-toggleable__control:checked~label.sk-toggleable__label-arrow:before {content: \"▾\";}#sk-a00a6f73-1589-4e8b-804b-1922e934bbb4 div.sk-estimator input.sk-toggleable__control:checked~label.sk-toggleable__label {background-color: #d4ebff;}#sk-a00a6f73-1589-4e8b-804b-1922e934bbb4 div.sk-label input.sk-toggleable__control:checked~label.sk-toggleable__label {background-color: #d4ebff;}#sk-a00a6f73-1589-4e8b-804b-1922e934bbb4 input.sk-hidden--visually {border: 0;clip: rect(1px 1px 1px 1px);clip: rect(1px, 1px, 1px, 1px);height: 1px;margin: -1px;overflow: hidden;padding: 0;position: absolute;width: 1px;}#sk-a00a6f73-1589-4e8b-804b-1922e934bbb4 div.sk-estimator {font-family: monospace;background-color: #f0f8ff;border: 1px dotted black;border-radius: 0.25em;box-sizing: border-box;margin-bottom: 0.5em;}#sk-a00a6f73-1589-4e8b-804b-1922e934bbb4 div.sk-estimator:hover {background-color: #d4ebff;}#sk-a00a6f73-1589-4e8b-804b-1922e934bbb4 div.sk-parallel-item::after {content: \"\";width: 100%;border-bottom: 1px solid gray;flex-grow: 1;}#sk-a00a6f73-1589-4e8b-804b-1922e934bbb4 div.sk-label:hover label.sk-toggleable__label {background-color: #d4ebff;}#sk-a00a6f73-1589-4e8b-804b-1922e934bbb4 div.sk-serial::before {content: \"\";position: absolute;border-left: 1px solid gray;box-sizing: border-box;top: 2em;bottom: 0;left: 50%;}#sk-a00a6f73-1589-4e8b-804b-1922e934bbb4 div.sk-serial {display: flex;flex-direction: column;align-items: center;background-color: white;padding-right: 0.2em;padding-left: 0.2em;}#sk-a00a6f73-1589-4e8b-804b-1922e934bbb4 div.sk-item {z-index: 1;}#sk-a00a6f73-1589-4e8b-804b-1922e934bbb4 div.sk-parallel {display: flex;align-items: stretch;justify-content: center;background-color: white;}#sk-a00a6f73-1589-4e8b-804b-1922e934bbb4 div.sk-parallel::before {content: \"\";position: absolute;border-left: 1px solid gray;box-sizing: border-box;top: 2em;bottom: 0;left: 50%;}#sk-a00a6f73-1589-4e8b-804b-1922e934bbb4 div.sk-parallel-item {display: flex;flex-direction: column;position: relative;background-color: white;}#sk-a00a6f73-1589-4e8b-804b-1922e934bbb4 div.sk-parallel-item:first-child::after {align-self: flex-end;width: 50%;}#sk-a00a6f73-1589-4e8b-804b-1922e934bbb4 div.sk-parallel-item:last-child::after {align-self: flex-start;width: 50%;}#sk-a00a6f73-1589-4e8b-804b-1922e934bbb4 div.sk-parallel-item:only-child::after {width: 0;}#sk-a00a6f73-1589-4e8b-804b-1922e934bbb4 div.sk-dashed-wrapped {border: 1px dashed gray;margin: 0 0.4em 0.5em 0.4em;box-sizing: border-box;padding-bottom: 0.4em;background-color: white;position: relative;}#sk-a00a6f73-1589-4e8b-804b-1922e934bbb4 div.sk-label label {font-family: monospace;font-weight: bold;background-color: white;display: inline-block;line-height: 1.2em;}#sk-a00a6f73-1589-4e8b-804b-1922e934bbb4 div.sk-label-container {position: relative;z-index: 2;text-align: center;}#sk-a00a6f73-1589-4e8b-804b-1922e934bbb4 div.sk-container {/* jupyter's `normalize.less` sets `[hidden] { display: none; }` but bootstrap.min.css set `[hidden] { display: none !important; }` so we also need the `!important` here to be able to override the default hidden behavior on the sphinx rendered scikit-learn.org. See: https://github.com/scikit-learn/scikit-learn/issues/21755 */display: inline-block !important;position: relative;}#sk-a00a6f73-1589-4e8b-804b-1922e934bbb4 div.sk-text-repr-fallback {display: none;}</style><div id=\"sk-a00a6f73-1589-4e8b-804b-1922e934bbb4\" class=\"sk-top-container\"><div class=\"sk-text-repr-fallback\"><pre>HistGradientBoostingClassifier(learning_rate=0.07)</pre><b>Please rerun this cell to show the HTML repr or trust the notebook.</b></div><div class=\"sk-container\" hidden><div class=\"sk-item\"><div class=\"sk-estimator sk-toggleable\"><input class=\"sk-toggleable__control sk-hidden--visually\" id=\"c64eccd1-496a-480f-aae9-d5ebdbd82caa\" type=\"checkbox\" checked><label for=\"c64eccd1-496a-480f-aae9-d5ebdbd82caa\" class=\"sk-toggleable__label sk-toggleable__label-arrow\">HistGradientBoostingClassifier</label><div class=\"sk-toggleable__content\"><pre>HistGradientBoostingClassifier(learning_rate=0.07)</pre></div></div></div></div></div>"
      ],
      "text/plain": [
       "HistGradientBoostingClassifier(learning_rate=0.07)"
      ]
     },
     "execution_count": 48,
     "metadata": {},
     "output_type": "execute_result"
    }
   ],
   "source": [
    "## MODEL\n",
    "clfmodel = HistGradientBoostingClassifier(\n",
    "    loss='auto',\n",
    "    learning_rate=0.07,\n",
    ")\n",
    "clfmodel.fit(X_train, y_train)"
   ]
  },
  {
   "cell_type": "code",
   "execution_count": 49,
   "id": "46348bd6",
   "metadata": {
    "execution": {
     "iopub.execute_input": "2022-11-29T14:21:39.666376Z",
     "iopub.status.busy": "2022-11-29T14:21:39.665978Z",
     "iopub.status.idle": "2022-11-29T14:21:39.757514Z",
     "shell.execute_reply": "2022-11-29T14:21:39.756338Z"
    },
    "papermill": {
     "duration": 0.116402,
     "end_time": "2022-11-29T14:21:39.760146",
     "exception": false,
     "start_time": "2022-11-29T14:21:39.643744",
     "status": "completed"
    },
    "tags": []
   },
   "outputs": [
    {
     "name": "stdout",
     "output_type": "stream",
     "text": [
      "y_pred : ['Yes' 'Yes' 'No' ... 'Yes' 'No' 'No']\n",
      "              precision    recall  f1-score   support\n",
      "\n",
      "          No       0.59      0.44      0.51      1000\n",
      "         Yes       0.66      0.78      0.71      1361\n",
      "\n",
      "    accuracy                           0.64      2361\n",
      "   macro avg       0.62      0.61      0.61      2361\n",
      "weighted avg       0.63      0.64      0.62      2361\n",
      "\n"
     ]
    }
   ],
   "source": [
    "y_pred = clfmodel.predict(X_test)\n",
    "print(\"y_pred :\", y_pred)\n",
    "print(classification_report(y_test, y_pred))\n",
    "# cvscore = cross_val_score(clfmodel, X_train, y_train, cv=9)\n",
    "# print(\"Cross_Val_Score :\", cvscore)\n",
    "# print(\"\\nMean Cross_Val_Score :\", cvscore.mean())"
   ]
  },
  {
   "cell_type": "markdown",
   "id": "fdfc1d9a",
   "metadata": {
    "papermill": {
     "duration": 0.02101,
     "end_time": "2022-11-29T14:21:39.802498",
     "exception": false,
     "start_time": "2022-11-29T14:21:39.781488",
     "status": "completed"
    },
    "tags": []
   },
   "source": [
    "### **VotingClassifier**"
   ]
  },
  {
   "cell_type": "code",
   "execution_count": 50,
   "id": "a024c83a",
   "metadata": {
    "execution": {
     "iopub.execute_input": "2022-11-29T14:21:39.848385Z",
     "iopub.status.busy": "2022-11-29T14:21:39.847972Z",
     "iopub.status.idle": "2022-11-29T14:21:39.852757Z",
     "shell.execute_reply": "2022-11-29T14:21:39.851887Z"
    },
    "papermill": {
     "duration": 0.029892,
     "end_time": "2022-11-29T14:21:39.854834",
     "exception": false,
     "start_time": "2022-11-29T14:21:39.824942",
     "status": "completed"
    },
    "tags": []
   },
   "outputs": [],
   "source": [
    "# ## MODEL\n",
    "# sgdclf = SGDClassifier(\n",
    "#     loss='log',\n",
    "#     eta0=0.01,\n",
    "#     learning_rate='adaptive',\n",
    "#     alpha=0.01)\n",
    "# gnbclf = GaussianNB()\n",
    "# svc_clf = SVC(gamma='auto') #SVC(gamma='auto', probability=True)\n",
    "# bagclf = BaggingClassifier(\n",
    "#     base_estimator=SVC(gamma='auto'),\n",
    "#     n_estimators=25)\n",
    "# adbclf = AdaBoostClassifier(n_estimators=100)\n",
    "# gdbclf = GradientBoostingClassifier(learning_rate=0.3)\n",
    "# rndforclf = RandomForestClassifier(\n",
    "#     criterion='entropy',\n",
    "#     max_features='log2')\n",
    "# histgdbclf = HistGradientBoostingClassifier(\n",
    "#     loss='auto',\n",
    "#     learning_rate=0.07)\n",
    "\n",
    "\n",
    "# clfmodel = VotingClassifier(\n",
    "#     estimators=[\n",
    "#         ('sgdclf', sgdclf),\n",
    "#         ('gnbclf', gnbclf),\n",
    "#         ('svc_clf', svc_clf),\n",
    "#         ('bagclf', bagclf),\n",
    "#         ('adbclf', adbclf),\n",
    "#         ('gdbclf', gdbclf),\n",
    "#         ('rndforclf', rndforclf),\n",
    "#         ('histgdbclf', histgdbclf)],\n",
    "#     # weights=[1,2,3,3,4,5,5,7],\n",
    "#     voting='hard',\n",
    "# )\n",
    "# clfmodel.fit(X_train, y_train)"
   ]
  },
  {
   "cell_type": "code",
   "execution_count": 51,
   "id": "408367c2",
   "metadata": {
    "execution": {
     "iopub.execute_input": "2022-11-29T14:21:39.901155Z",
     "iopub.status.busy": "2022-11-29T14:21:39.899900Z",
     "iopub.status.idle": "2022-11-29T14:21:39.906168Z",
     "shell.execute_reply": "2022-11-29T14:21:39.904901Z"
    },
    "papermill": {
     "duration": 0.031892,
     "end_time": "2022-11-29T14:21:39.908799",
     "exception": false,
     "start_time": "2022-11-29T14:21:39.876907",
     "status": "completed"
    },
    "tags": []
   },
   "outputs": [],
   "source": [
    "# y_pred = clfmodel.predict(X_test)\n",
    "# print(\"y_pred :\", y_pred)\n",
    "# print(classification_report(y_test, y_pred))\n",
    "# # cvscore = cross_val_score(clfmodel, X_train, y_train, cv=9)\n",
    "# # print(\"Cross_Val_Score :\", cvscore)\n",
    "# # print(\"\\nMean Cross_Val_Score :\", cvscore.mean())"
   ]
  },
  {
   "cell_type": "markdown",
   "id": "5b3faa45",
   "metadata": {
    "papermill": {
     "duration": 0.021814,
     "end_time": "2022-11-29T14:21:39.952001",
     "exception": false,
     "start_time": "2022-11-29T14:21:39.930187",
     "status": "completed"
    },
    "tags": []
   },
   "source": [
    "## TRAIN BEST MODEL WITH ENTIRE TRAINING DATA"
   ]
  },
  {
   "cell_type": "code",
   "execution_count": 52,
   "id": "95fc74f0",
   "metadata": {
    "execution": {
     "iopub.execute_input": "2022-11-29T14:21:39.996904Z",
     "iopub.status.busy": "2022-11-29T14:21:39.996434Z",
     "iopub.status.idle": "2022-11-29T14:21:40.559998Z",
     "shell.execute_reply": "2022-11-29T14:21:40.559063Z"
    },
    "papermill": {
     "duration": 0.590116,
     "end_time": "2022-11-29T14:21:40.563150",
     "exception": false,
     "start_time": "2022-11-29T14:21:39.973034",
     "status": "completed"
    },
    "tags": []
   },
   "outputs": [
    {
     "data": {
      "text/html": [
       "<style>#sk-03b028e2-06da-4cbe-9a8e-780d2d57bf0e {color: black;background-color: white;}#sk-03b028e2-06da-4cbe-9a8e-780d2d57bf0e pre{padding: 0;}#sk-03b028e2-06da-4cbe-9a8e-780d2d57bf0e div.sk-toggleable {background-color: white;}#sk-03b028e2-06da-4cbe-9a8e-780d2d57bf0e label.sk-toggleable__label {cursor: pointer;display: block;width: 100%;margin-bottom: 0;padding: 0.3em;box-sizing: border-box;text-align: center;}#sk-03b028e2-06da-4cbe-9a8e-780d2d57bf0e label.sk-toggleable__label-arrow:before {content: \"▸\";float: left;margin-right: 0.25em;color: #696969;}#sk-03b028e2-06da-4cbe-9a8e-780d2d57bf0e label.sk-toggleable__label-arrow:hover:before {color: black;}#sk-03b028e2-06da-4cbe-9a8e-780d2d57bf0e div.sk-estimator:hover label.sk-toggleable__label-arrow:before {color: black;}#sk-03b028e2-06da-4cbe-9a8e-780d2d57bf0e div.sk-toggleable__content {max-height: 0;max-width: 0;overflow: hidden;text-align: left;background-color: #f0f8ff;}#sk-03b028e2-06da-4cbe-9a8e-780d2d57bf0e div.sk-toggleable__content pre {margin: 0.2em;color: black;border-radius: 0.25em;background-color: #f0f8ff;}#sk-03b028e2-06da-4cbe-9a8e-780d2d57bf0e input.sk-toggleable__control:checked~div.sk-toggleable__content {max-height: 200px;max-width: 100%;overflow: auto;}#sk-03b028e2-06da-4cbe-9a8e-780d2d57bf0e input.sk-toggleable__control:checked~label.sk-toggleable__label-arrow:before {content: \"▾\";}#sk-03b028e2-06da-4cbe-9a8e-780d2d57bf0e div.sk-estimator input.sk-toggleable__control:checked~label.sk-toggleable__label {background-color: #d4ebff;}#sk-03b028e2-06da-4cbe-9a8e-780d2d57bf0e div.sk-label input.sk-toggleable__control:checked~label.sk-toggleable__label {background-color: #d4ebff;}#sk-03b028e2-06da-4cbe-9a8e-780d2d57bf0e input.sk-hidden--visually {border: 0;clip: rect(1px 1px 1px 1px);clip: rect(1px, 1px, 1px, 1px);height: 1px;margin: -1px;overflow: hidden;padding: 0;position: absolute;width: 1px;}#sk-03b028e2-06da-4cbe-9a8e-780d2d57bf0e div.sk-estimator {font-family: monospace;background-color: #f0f8ff;border: 1px dotted black;border-radius: 0.25em;box-sizing: border-box;margin-bottom: 0.5em;}#sk-03b028e2-06da-4cbe-9a8e-780d2d57bf0e div.sk-estimator:hover {background-color: #d4ebff;}#sk-03b028e2-06da-4cbe-9a8e-780d2d57bf0e div.sk-parallel-item::after {content: \"\";width: 100%;border-bottom: 1px solid gray;flex-grow: 1;}#sk-03b028e2-06da-4cbe-9a8e-780d2d57bf0e div.sk-label:hover label.sk-toggleable__label {background-color: #d4ebff;}#sk-03b028e2-06da-4cbe-9a8e-780d2d57bf0e div.sk-serial::before {content: \"\";position: absolute;border-left: 1px solid gray;box-sizing: border-box;top: 2em;bottom: 0;left: 50%;}#sk-03b028e2-06da-4cbe-9a8e-780d2d57bf0e div.sk-serial {display: flex;flex-direction: column;align-items: center;background-color: white;padding-right: 0.2em;padding-left: 0.2em;}#sk-03b028e2-06da-4cbe-9a8e-780d2d57bf0e div.sk-item {z-index: 1;}#sk-03b028e2-06da-4cbe-9a8e-780d2d57bf0e div.sk-parallel {display: flex;align-items: stretch;justify-content: center;background-color: white;}#sk-03b028e2-06da-4cbe-9a8e-780d2d57bf0e div.sk-parallel::before {content: \"\";position: absolute;border-left: 1px solid gray;box-sizing: border-box;top: 2em;bottom: 0;left: 50%;}#sk-03b028e2-06da-4cbe-9a8e-780d2d57bf0e div.sk-parallel-item {display: flex;flex-direction: column;position: relative;background-color: white;}#sk-03b028e2-06da-4cbe-9a8e-780d2d57bf0e div.sk-parallel-item:first-child::after {align-self: flex-end;width: 50%;}#sk-03b028e2-06da-4cbe-9a8e-780d2d57bf0e div.sk-parallel-item:last-child::after {align-self: flex-start;width: 50%;}#sk-03b028e2-06da-4cbe-9a8e-780d2d57bf0e div.sk-parallel-item:only-child::after {width: 0;}#sk-03b028e2-06da-4cbe-9a8e-780d2d57bf0e div.sk-dashed-wrapped {border: 1px dashed gray;margin: 0 0.4em 0.5em 0.4em;box-sizing: border-box;padding-bottom: 0.4em;background-color: white;position: relative;}#sk-03b028e2-06da-4cbe-9a8e-780d2d57bf0e div.sk-label label {font-family: monospace;font-weight: bold;background-color: white;display: inline-block;line-height: 1.2em;}#sk-03b028e2-06da-4cbe-9a8e-780d2d57bf0e div.sk-label-container {position: relative;z-index: 2;text-align: center;}#sk-03b028e2-06da-4cbe-9a8e-780d2d57bf0e div.sk-container {/* jupyter's `normalize.less` sets `[hidden] { display: none; }` but bootstrap.min.css set `[hidden] { display: none !important; }` so we also need the `!important` here to be able to override the default hidden behavior on the sphinx rendered scikit-learn.org. See: https://github.com/scikit-learn/scikit-learn/issues/21755 */display: inline-block !important;position: relative;}#sk-03b028e2-06da-4cbe-9a8e-780d2d57bf0e div.sk-text-repr-fallback {display: none;}</style><div id=\"sk-03b028e2-06da-4cbe-9a8e-780d2d57bf0e\" class=\"sk-top-container\"><div class=\"sk-text-repr-fallback\"><pre>HistGradientBoostingClassifier(learning_rate=0.07)</pre><b>Please rerun this cell to show the HTML repr or trust the notebook.</b></div><div class=\"sk-container\" hidden><div class=\"sk-item\"><div class=\"sk-estimator sk-toggleable\"><input class=\"sk-toggleable__control sk-hidden--visually\" id=\"a576ec17-4424-4967-96a3-1d1f044c3b46\" type=\"checkbox\" checked><label for=\"a576ec17-4424-4967-96a3-1d1f044c3b46\" class=\"sk-toggleable__label sk-toggleable__label-arrow\">HistGradientBoostingClassifier</label><div class=\"sk-toggleable__content\"><pre>HistGradientBoostingClassifier(learning_rate=0.07)</pre></div></div></div></div></div>"
      ],
      "text/plain": [
       "HistGradientBoostingClassifier(learning_rate=0.07)"
      ]
     },
     "execution_count": 52,
     "metadata": {},
     "output_type": "execute_result"
    }
   ],
   "source": [
    "clfmodel = HistGradientBoostingClassifier(\n",
    "    loss='auto',\n",
    "    learning_rate=0.07,\n",
    ")\n",
    "\n",
    "\n",
    "\n",
    "\n",
    "clfmodel.fit(train_pipe, y)"
   ]
  },
  {
   "cell_type": "code",
   "execution_count": null,
   "id": "7a4b5908",
   "metadata": {
    "papermill": {
     "duration": 0.021372,
     "end_time": "2022-11-29T14:21:40.607763",
     "exception": false,
     "start_time": "2022-11-29T14:21:40.586391",
     "status": "completed"
    },
    "tags": []
   },
   "outputs": [],
   "source": []
  },
  {
   "cell_type": "markdown",
   "id": "9b8cac37",
   "metadata": {
    "papermill": {
     "duration": 0.021911,
     "end_time": "2022-11-29T14:21:40.651255",
     "exception": false,
     "start_time": "2022-11-29T14:21:40.629344",
     "status": "completed"
    },
    "tags": []
   },
   "source": [
    "---"
   ]
  },
  {
   "cell_type": "code",
   "execution_count": 53,
   "id": "0c414836",
   "metadata": {
    "execution": {
     "iopub.execute_input": "2022-11-29T14:21:40.696259Z",
     "iopub.status.busy": "2022-11-29T14:21:40.695175Z",
     "iopub.status.idle": "2022-11-29T14:21:40.700077Z",
     "shell.execute_reply": "2022-11-29T14:21:40.699252Z"
    },
    "papermill": {
     "duration": 0.029912,
     "end_time": "2022-11-29T14:21:40.702350",
     "exception": false,
     "start_time": "2022-11-29T14:21:40.672438",
     "status": "completed"
    },
    "tags": []
   },
   "outputs": [],
   "source": [
    "# from sklearn.ensemble import GradientBoostingClassifier\n",
    "\n",
    "# my_bestmodel = GradientBoostingClassifier()\n",
    "# my_bestmodel.fit(X_train, y_train)"
   ]
  },
  {
   "cell_type": "markdown",
   "id": "9c9f20ec",
   "metadata": {
    "papermill": {
     "duration": 0.021022,
     "end_time": "2022-11-29T14:21:40.745495",
     "exception": false,
     "start_time": "2022-11-29T14:21:40.724473",
     "status": "completed"
    },
    "tags": []
   },
   "source": [
    "---"
   ]
  },
  {
   "cell_type": "code",
   "execution_count": 54,
   "id": "ce9c480b",
   "metadata": {
    "execution": {
     "iopub.execute_input": "2022-11-29T14:21:40.791367Z",
     "iopub.status.busy": "2022-11-29T14:21:40.790870Z",
     "iopub.status.idle": "2022-11-29T14:21:40.796844Z",
     "shell.execute_reply": "2022-11-29T14:21:40.795565Z"
    },
    "papermill": {
     "duration": 0.03257,
     "end_time": "2022-11-29T14:21:40.799279",
     "exception": false,
     "start_time": "2022-11-29T14:21:40.766709",
     "status": "completed"
    },
    "tags": []
   },
   "outputs": [],
   "source": [
    "# test_data = pd.read_csv('/kaggle/input/marketing-strategy-personalised-offer/test_data.csv')\n",
    "# X_test = test_data[cols_tolearn]"
   ]
  },
  {
   "cell_type": "code",
   "execution_count": 55,
   "id": "0b952ce5",
   "metadata": {
    "execution": {
     "iopub.execute_input": "2022-11-29T14:21:40.845431Z",
     "iopub.status.busy": "2022-11-29T14:21:40.844737Z",
     "iopub.status.idle": "2022-11-29T14:21:40.849489Z",
     "shell.execute_reply": "2022-11-29T14:21:40.848340Z"
    },
    "papermill": {
     "duration": 0.030814,
     "end_time": "2022-11-29T14:21:40.851865",
     "exception": false,
     "start_time": "2022-11-29T14:21:40.821051",
     "status": "completed"
    },
    "tags": []
   },
   "outputs": [],
   "source": [
    "# prediction = my_bestmodel.predict(X_test)\n",
    "# prediction = logistic_reg.predict(full_pipeline.transform(X_test))"
   ]
  },
  {
   "cell_type": "markdown",
   "id": "db994a2f",
   "metadata": {
    "papermill": {
     "duration": 0.021146,
     "end_time": "2022-11-29T14:21:40.894276",
     "exception": false,
     "start_time": "2022-11-29T14:21:40.873130",
     "status": "completed"
    },
    "tags": []
   },
   "source": [
    "---"
   ]
  },
  {
   "cell_type": "markdown",
   "id": "0a9c438f",
   "metadata": {
    "papermill": {
     "duration": 0.020625,
     "end_time": "2022-11-29T14:21:40.936100",
     "exception": false,
     "start_time": "2022-11-29T14:21:40.915475",
     "status": "completed"
    },
    "tags": []
   },
   "source": [
    "## Final Prediction for Entire Test Data"
   ]
  },
  {
   "cell_type": "code",
   "execution_count": 56,
   "id": "a2711772",
   "metadata": {
    "execution": {
     "iopub.execute_input": "2022-11-29T14:21:40.981287Z",
     "iopub.status.busy": "2022-11-29T14:21:40.980816Z",
     "iopub.status.idle": "2022-11-29T14:21:41.005711Z",
     "shell.execute_reply": "2022-11-29T14:21:41.004481Z"
    },
    "papermill": {
     "duration": 0.050678,
     "end_time": "2022-11-29T14:21:41.008060",
     "exception": false,
     "start_time": "2022-11-29T14:21:40.957382",
     "status": "completed"
    },
    "tags": []
   },
   "outputs": [
    {
     "name": "stdout",
     "output_type": "stream",
     "text": [
      "(5305, 29) (5305,)\n"
     ]
    },
    {
     "data": {
      "text/plain": [
       "array(['No', 'Yes', 'No', ..., 'No', 'Yes', 'Yes'], dtype=object)"
      ]
     },
     "execution_count": 56,
     "metadata": {},
     "output_type": "execute_result"
    }
   ],
   "source": [
    "prediction = clfmodel.predict(test_pipe)\n",
    "print(test_pipe.shape, prediction.shape)\n",
    "prediction"
   ]
  },
  {
   "cell_type": "code",
   "execution_count": 57,
   "id": "083d46c0",
   "metadata": {
    "execution": {
     "iopub.execute_input": "2022-11-29T14:21:41.054449Z",
     "iopub.status.busy": "2022-11-29T14:21:41.054057Z",
     "iopub.status.idle": "2022-11-29T14:21:41.067727Z",
     "shell.execute_reply": "2022-11-29T14:21:41.066343Z"
    },
    "papermill": {
     "duration": 0.038397,
     "end_time": "2022-11-29T14:21:41.070098",
     "exception": false,
     "start_time": "2022-11-29T14:21:41.031701",
     "status": "completed"
    },
    "tags": []
   },
   "outputs": [],
   "source": [
    "submission = pd.DataFrame(columns = ['id', 'Offer Accepted'])\n",
    "submission['id'] = [i for i in range(len(prediction))]\n",
    "submission['Offer Accepted'] = prediction"
   ]
  },
  {
   "cell_type": "code",
   "execution_count": 58,
   "id": "deca41b0",
   "metadata": {
    "execution": {
     "iopub.execute_input": "2022-11-29T14:21:41.114492Z",
     "iopub.status.busy": "2022-11-29T14:21:41.114117Z",
     "iopub.status.idle": "2022-11-29T14:21:41.125195Z",
     "shell.execute_reply": "2022-11-29T14:21:41.123835Z"
    },
    "papermill": {
     "duration": 0.035837,
     "end_time": "2022-11-29T14:21:41.127310",
     "exception": false,
     "start_time": "2022-11-29T14:21:41.091473",
     "status": "completed"
    },
    "tags": []
   },
   "outputs": [
    {
     "data": {
      "text/html": [
       "<div>\n",
       "<style scoped>\n",
       "    .dataframe tbody tr th:only-of-type {\n",
       "        vertical-align: middle;\n",
       "    }\n",
       "\n",
       "    .dataframe tbody tr th {\n",
       "        vertical-align: top;\n",
       "    }\n",
       "\n",
       "    .dataframe thead th {\n",
       "        text-align: right;\n",
       "    }\n",
       "</style>\n",
       "<table border=\"1\" class=\"dataframe\">\n",
       "  <thead>\n",
       "    <tr style=\"text-align: right;\">\n",
       "      <th></th>\n",
       "      <th>id</th>\n",
       "      <th>Offer Accepted</th>\n",
       "    </tr>\n",
       "  </thead>\n",
       "  <tbody>\n",
       "    <tr>\n",
       "      <th>0</th>\n",
       "      <td>0</td>\n",
       "      <td>No</td>\n",
       "    </tr>\n",
       "    <tr>\n",
       "      <th>1</th>\n",
       "      <td>1</td>\n",
       "      <td>Yes</td>\n",
       "    </tr>\n",
       "    <tr>\n",
       "      <th>2</th>\n",
       "      <td>2</td>\n",
       "      <td>No</td>\n",
       "    </tr>\n",
       "    <tr>\n",
       "      <th>3</th>\n",
       "      <td>3</td>\n",
       "      <td>No</td>\n",
       "    </tr>\n",
       "    <tr>\n",
       "      <th>4</th>\n",
       "      <td>4</td>\n",
       "      <td>Yes</td>\n",
       "    </tr>\n",
       "  </tbody>\n",
       "</table>\n",
       "</div>"
      ],
      "text/plain": [
       "   id Offer Accepted\n",
       "0   0             No\n",
       "1   1            Yes\n",
       "2   2             No\n",
       "3   3             No\n",
       "4   4            Yes"
      ]
     },
     "execution_count": 58,
     "metadata": {},
     "output_type": "execute_result"
    }
   ],
   "source": [
    "submission.head()"
   ]
  },
  {
   "cell_type": "code",
   "execution_count": 59,
   "id": "ff8d030e",
   "metadata": {
    "execution": {
     "iopub.execute_input": "2022-11-29T14:21:41.172886Z",
     "iopub.status.busy": "2022-11-29T14:21:41.172404Z",
     "iopub.status.idle": "2022-11-29T14:21:41.187177Z",
     "shell.execute_reply": "2022-11-29T14:21:41.185982Z"
    },
    "papermill": {
     "duration": 0.04094,
     "end_time": "2022-11-29T14:21:41.189809",
     "exception": false,
     "start_time": "2022-11-29T14:21:41.148869",
     "status": "completed"
    },
    "tags": []
   },
   "outputs": [],
   "source": [
    "submission.to_csv('submission.csv', index=False)"
   ]
  },
  {
   "cell_type": "code",
   "execution_count": null,
   "id": "43b41402",
   "metadata": {
    "papermill": {
     "duration": 0.021233,
     "end_time": "2022-11-29T14:21:41.234350",
     "exception": false,
     "start_time": "2022-11-29T14:21:41.213117",
     "status": "completed"
    },
    "tags": []
   },
   "outputs": [],
   "source": []
  }
 ],
 "metadata": {
  "kernelspec": {
   "display_name": "Python 3",
   "language": "python",
   "name": "python3"
  },
  "language_info": {
   "codemirror_mode": {
    "name": "ipython",
    "version": 3
   },
   "file_extension": ".py",
   "mimetype": "text/x-python",
   "name": "python",
   "nbconvert_exporter": "python",
   "pygments_lexer": "ipython3",
   "version": "3.7.12"
  },
  "papermill": {
   "default_parameters": {},
   "duration": 18.228583,
   "end_time": "2022-11-29T14:21:42.279596",
   "environment_variables": {},
   "exception": null,
   "input_path": "__notebook__.ipynb",
   "output_path": "__notebook__.ipynb",
   "parameters": {},
   "start_time": "2022-11-29T14:21:24.051013",
   "version": "2.3.4"
  }
 },
 "nbformat": 4,
 "nbformat_minor": 5
}
